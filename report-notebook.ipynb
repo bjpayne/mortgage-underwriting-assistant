{
 "cells": [
  {
   "cell_type": "code",
   "execution_count": 1,
   "metadata": {},
   "outputs": [],
   "source": [
    "import pandas as pd\n",
    "import numpy as np\n",
    "import matplotlib.pyplot as plt\n",
    "import seaborn as sns\n",
    "from sklearn.model_selection import train_test_split, GridSearchCV\n",
    "from sklearn.neural_network import MLPClassifier\n",
    "from sklearn.metrics import classification_report\n",
    "import seaborn as sns\n",
    "\n",
    "%matplotlib inline"
   ]
  },
  {
   "cell_type": "code",
   "execution_count": 2,
   "metadata": {
    "pycharm": {
     "name": "#%%\n"
    }
   },
   "outputs": [],
   "source": [
    "dataset = pd.read_csv('etl_data.csv')"
   ]
  },
  {
   "cell_type": "code",
   "execution_count": 3,
   "metadata": {
    "pycharm": {
     "name": "#%%\n"
    }
   },
   "outputs": [
    {
     "data": {
      "text/html": [
       "<div>\n",
       "<style scoped>\n",
       "    .dataframe tbody tr th:only-of-type {\n",
       "        vertical-align: middle;\n",
       "    }\n",
       "\n",
       "    .dataframe tbody tr th {\n",
       "        vertical-align: top;\n",
       "    }\n",
       "\n",
       "    .dataframe thead th {\n",
       "        text-align: right;\n",
       "    }\n",
       "</style>\n",
       "<table border=\"1\" class=\"dataframe\">\n",
       "  <thead>\n",
       "    <tr style=\"text-align: right;\">\n",
       "      <th></th>\n",
       "      <th>loan_limit</th>\n",
       "      <th>pre_approval</th>\n",
       "      <th>loan_type</th>\n",
       "      <th>loan_purpose</th>\n",
       "      <th>line_of_credit</th>\n",
       "      <th>commercial_loan</th>\n",
       "      <th>loan_amount</th>\n",
       "      <th>interest_rate</th>\n",
       "      <th>interest_rate_spread</th>\n",
       "      <th>upfront_charges</th>\n",
       "      <th>...</th>\n",
       "      <th>units</th>\n",
       "      <th>income</th>\n",
       "      <th>credit_type</th>\n",
       "      <th>credit_score</th>\n",
       "      <th>co_borrower_credit_type</th>\n",
       "      <th>application_taken</th>\n",
       "      <th>ltv</th>\n",
       "      <th>deposit_type</th>\n",
       "      <th>status</th>\n",
       "      <th>dti</th>\n",
       "    </tr>\n",
       "  </thead>\n",
       "  <tbody>\n",
       "    <tr>\n",
       "      <th>0</th>\n",
       "      <td>1</td>\n",
       "      <td>0</td>\n",
       "      <td>1</td>\n",
       "      <td>1</td>\n",
       "      <td>0</td>\n",
       "      <td>0</td>\n",
       "      <td>116500</td>\n",
       "      <td>4.3125</td>\n",
       "      <td>0.0000</td>\n",
       "      <td>0.0</td>\n",
       "      <td>...</td>\n",
       "      <td>1</td>\n",
       "      <td>1740.0</td>\n",
       "      <td>1</td>\n",
       "      <td>758</td>\n",
       "      <td>4</td>\n",
       "      <td>1</td>\n",
       "      <td>98.728814</td>\n",
       "      <td>1</td>\n",
       "      <td>1</td>\n",
       "      <td>45.000000</td>\n",
       "    </tr>\n",
       "    <tr>\n",
       "      <th>1</th>\n",
       "      <td>1</td>\n",
       "      <td>0</td>\n",
       "      <td>2</td>\n",
       "      <td>1</td>\n",
       "      <td>0</td>\n",
       "      <td>1</td>\n",
       "      <td>206500</td>\n",
       "      <td>4.3125</td>\n",
       "      <td>0.0000</td>\n",
       "      <td>0.0</td>\n",
       "      <td>...</td>\n",
       "      <td>1</td>\n",
       "      <td>4980.0</td>\n",
       "      <td>2</td>\n",
       "      <td>552</td>\n",
       "      <td>1</td>\n",
       "      <td>1</td>\n",
       "      <td>79.362416</td>\n",
       "      <td>1</td>\n",
       "      <td>1</td>\n",
       "      <td>37.369267</td>\n",
       "    </tr>\n",
       "    <tr>\n",
       "      <th>2</th>\n",
       "      <td>1</td>\n",
       "      <td>1</td>\n",
       "      <td>1</td>\n",
       "      <td>1</td>\n",
       "      <td>0</td>\n",
       "      <td>0</td>\n",
       "      <td>406500</td>\n",
       "      <td>4.5600</td>\n",
       "      <td>0.2000</td>\n",
       "      <td>595.0</td>\n",
       "      <td>...</td>\n",
       "      <td>1</td>\n",
       "      <td>9480.0</td>\n",
       "      <td>1</td>\n",
       "      <td>834</td>\n",
       "      <td>4</td>\n",
       "      <td>1</td>\n",
       "      <td>80.019685</td>\n",
       "      <td>1</td>\n",
       "      <td>0</td>\n",
       "      <td>46.000000</td>\n",
       "    </tr>\n",
       "    <tr>\n",
       "      <th>3</th>\n",
       "      <td>1</td>\n",
       "      <td>0</td>\n",
       "      <td>1</td>\n",
       "      <td>4</td>\n",
       "      <td>0</td>\n",
       "      <td>0</td>\n",
       "      <td>456500</td>\n",
       "      <td>4.2500</td>\n",
       "      <td>0.6810</td>\n",
       "      <td>0.0</td>\n",
       "      <td>...</td>\n",
       "      <td>1</td>\n",
       "      <td>11880.0</td>\n",
       "      <td>1</td>\n",
       "      <td>587</td>\n",
       "      <td>4</td>\n",
       "      <td>2</td>\n",
       "      <td>69.376900</td>\n",
       "      <td>1</td>\n",
       "      <td>0</td>\n",
       "      <td>42.000000</td>\n",
       "    </tr>\n",
       "    <tr>\n",
       "      <th>4</th>\n",
       "      <td>1</td>\n",
       "      <td>1</td>\n",
       "      <td>1</td>\n",
       "      <td>1</td>\n",
       "      <td>0</td>\n",
       "      <td>0</td>\n",
       "      <td>696500</td>\n",
       "      <td>4.0000</td>\n",
       "      <td>0.3042</td>\n",
       "      <td>0.0</td>\n",
       "      <td>...</td>\n",
       "      <td>1</td>\n",
       "      <td>10440.0</td>\n",
       "      <td>4</td>\n",
       "      <td>602</td>\n",
       "      <td>1</td>\n",
       "      <td>2</td>\n",
       "      <td>91.886544</td>\n",
       "      <td>1</td>\n",
       "      <td>0</td>\n",
       "      <td>39.000000</td>\n",
       "    </tr>\n",
       "  </tbody>\n",
       "</table>\n",
       "<p>5 rows × 28 columns</p>\n",
       "</div>"
      ],
      "text/plain": [
       "   loan_limit  pre_approval  loan_type  loan_purpose  line_of_credit  \\\n",
       "0           1             0          1             1               0   \n",
       "1           1             0          2             1               0   \n",
       "2           1             1          1             1               0   \n",
       "3           1             0          1             4               0   \n",
       "4           1             1          1             1               0   \n",
       "\n",
       "   commercial_loan  loan_amount  interest_rate  interest_rate_spread  \\\n",
       "0                0       116500         4.3125                0.0000   \n",
       "1                1       206500         4.3125                0.0000   \n",
       "2                0       406500         4.5600                0.2000   \n",
       "3                0       456500         4.2500                0.6810   \n",
       "4                0       696500         4.0000                0.3042   \n",
       "\n",
       "   upfront_charges  ...  units   income  credit_type  credit_score  \\\n",
       "0              0.0  ...      1   1740.0            1           758   \n",
       "1              0.0  ...      1   4980.0            2           552   \n",
       "2            595.0  ...      1   9480.0            1           834   \n",
       "3              0.0  ...      1  11880.0            1           587   \n",
       "4              0.0  ...      1  10440.0            4           602   \n",
       "\n",
       "   co_borrower_credit_type  application_taken        ltv  deposit_type  \\\n",
       "0                        4                  1  98.728814             1   \n",
       "1                        1                  1  79.362416             1   \n",
       "2                        4                  1  80.019685             1   \n",
       "3                        4                  2  69.376900             1   \n",
       "4                        1                  2  91.886544             1   \n",
       "\n",
       "   status        dti  \n",
       "0       1  45.000000  \n",
       "1       1  37.369267  \n",
       "2       0  46.000000  \n",
       "3       0  42.000000  \n",
       "4       0  39.000000  \n",
       "\n",
       "[5 rows x 28 columns]"
      ]
     },
     "execution_count": 3,
     "metadata": {},
     "output_type": "execute_result"
    }
   ],
   "source": [
    "dataset.head()"
   ]
  },
  {
   "cell_type": "markdown",
   "metadata": {},
   "source": [
    "#### Loan Limits"
   ]
  },
  {
   "cell_type": "code",
   "execution_count": 4,
   "metadata": {},
   "outputs": [
    {
     "data": {
      "text/plain": [
       "(102904, 32444, 6664, 3314)"
      ]
     },
     "execution_count": 4,
     "metadata": {},
     "output_type": "execute_result"
    }
   ],
   "source": [
    "conforming_limit_non_performing = dataset[(dataset['loan_limit'] == 1) & (dataset['status'] == 1)]['loan_limit'].count()\n",
    "conforming_limit_performing = dataset[(dataset['loan_limit'] == 1) & (dataset['status'] == 0)]['loan_limit'].count()\n",
    "non_conforming_limit_non_performing = dataset[(dataset['loan_limit'] == 2) & (dataset['status'] == 1)]['loan_limit'].count()\n",
    "non_conforming_limit_performing = dataset[(dataset['loan_limit'] == 2) & (dataset['status'] == 0)]['loan_limit'].count()\n",
    "\n",
    "conforming_limit_performing, conforming_limit_non_performing, non_conforming_limit_performing, non_conforming_limit_non_performing"
   ]
  },
  {
   "cell_type": "code",
   "execution_count": 5,
   "metadata": {},
   "outputs": [
    {
     "data": {
      "image/png": "[encoded data removed]",
      "text/plain": [
       "<Figure size 432x288 with 1 Axes>"
      ]
     },
     "metadata": {
      "needs_background": "light"
     },
     "output_type": "display_data"
    }
   ],
   "source": [
    "labels = ['Performing', 'Non_Performing']\n",
    "width = 0.35       # the width of the bars: can also be len(x) sequence\n",
    "\n",
    "fig, ax = plt.subplots()\n",
    "\n",
    "ax.bar(labels, [conforming_limit_performing, conforming_limit_non_performing], width, label='Conforming')\n",
    "ax.bar(labels, [non_conforming_limit_performing, non_conforming_limit_non_performing], width, bottom=[conforming_limit_performing, conforming_limit_non_performing], label='Non-Conforming')\n",
    "\n",
    "ax.set_ylabel('No. Loans')\n",
    "ax.set_title('No. Performing vs. Non-Performing Loans by Loan Limit')\n",
    "ax.legend()\n",
    "\n",
    "plt.show()"
   ]
  },
  {
   "cell_type": "markdown",
   "metadata": {},
   "source": [
    "### Loan amount"
   ]
  },
  {
   "cell_type": "code",
   "execution_count": 6,
   "metadata": {},
   "outputs": [],
   "source": [
    "dataset['loan_amount_mm'] = dataset['loan_amount'] / 1_000_000"
   ]
  },
  {
   "cell_type": "code",
   "execution_count": 28,
   "metadata": {},
   "outputs": [],
   "source": [
    "dataset['Loan Status'] = dataset['status'].map({1: 'Non-Performing', 0: 'Performing'})"
   ]
  },
  {
   "cell_type": "code",
   "execution_count": 29,
   "metadata": {},
   "outputs": [
    {
     "data": {
      "text/plain": [
       "<seaborn.axisgrid.FacetGrid at 0x19236657cf8>"
      ]
     },
     "execution_count": 29,
     "metadata": {},
     "output_type": "execute_result"
    },
    {
     "data": {
      "image/png": "[encoded data removed]",
      "text/plain": [
       "<Figure size 474.25x360 with 1 Axes>"
      ]
     },
     "metadata": {
      "needs_background": "light"
     },
     "output_type": "display_data"
    }
   ],
   "source": [
    "sns.displot(dataset, x=\"loan_amount_mm\", hue=\"Loan Status\", bins=100)"
   ]
  },
  {
   "cell_type": "markdown",
   "metadata": {},
   "source": [
    "#### Credit Score"
   ]
  },
  {
   "cell_type": "code",
   "execution_count": 51,
   "metadata": {},
   "outputs": [
    {
     "data": {
      "text/plain": [
       "<seaborn.axisgrid.FacetGrid at 0x19235352b70>"
      ]
     },
     "execution_count": 51,
     "metadata": {},
     "output_type": "execute_result"
    },
    {
     "data": {
      "image/png": "[encoded data removed]",
      "text/plain": [
       "<Figure size 474.25x360 with 1 Axes>"
      ]
     },
     "metadata": {
      "needs_background": "light"
     },
     "output_type": "display_data"
    }
   ],
   "source": [
    "sns.displot(dataset, x=\"credit_score\", hue=\"Loan Status\")"
   ]
  },
  {
   "cell_type": "markdown",
   "metadata": {},
   "source": [
    "#### Income"
   ]
  },
  {
   "cell_type": "code",
   "execution_count": null,
   "metadata": {},
   "outputs": [],
   "source": [
    "sns.displot(da)"
   ]
  }
 ],
 "metadata": {
  "kernelspec": {
   "display_name": "Python 3",
   "language": "python",
   "name": "python3"
  },
  "language_info": {
   "codemirror_mode": {
    "name": "ipython",
    "version": 3
   },
   "file_extension": ".py",
   "mimetype": "text/x-python",
   "name": "python",
   "nbconvert_exporter": "python",
   "pygments_lexer": "ipython3",
   "version": "3.6.6"
  }
 },
 "nbformat": 4,
 "nbformat_minor": 1
}
