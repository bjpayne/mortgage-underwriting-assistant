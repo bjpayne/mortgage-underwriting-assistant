{
  "cells": [
    {
      "cell_type": "markdown",
      "metadata": {
        "id": "0FtRxkSnmg0k"
      },
      "source": [
        "# Mortgage Underwriting AI Assistant: Data Analysis"
      ]
    },
    {
      "cell_type": "markdown",
      "metadata": {
        "id": "OXj8Uvzymg0o"
      },
      "source": [
        "### Table of Contents"
      ]
    },
    {
      "cell_type": "markdown",
      "metadata": {
        "id": "9x0dd7sOmg0p"
      },
      "source": [
        "1. [Notebook setup](#Notebook-setup)\n",
        "2. [ETL](#ETL)<br>\n",
        "    2.1. [Year](#Year)<br>\n",
        "    2.2. [Loan Limit](#Loan-limit)<br>\n",
        "    2.3. [PreApproval](#PreApproval)<br>\n",
        "    2.4. [Loan type](#Loan-type)<br>\n",
        "    2.5. [Loan purpose](#Loan-purpose)<br>\n",
        "    2.6. [Credit worthiness](#Credit-worthiness)<br>\n",
        "    2.7. [Line of Credit](#Line-of-Credit)<br>\n",
        "    2.8. [Commercial loan](#Commercial-loan)<br>\n",
        "    2.9. [Loan amount](#Loan-amount)<br>\n",
        "    2.10. [Interest rate](#Interest-rate)<br>\n",
        "    2.11. [Interest rate spread](#Interest-rate-spread)<br>\n",
        "    2.12. [Upfront charges](#Upfront-charges)<br>\n",
        "    2.13. [Term](#Term)<br>\n",
        "    2.14. [Negative ammortization](#Negative-ammortization)<br>\n",
        "    2.15. [Interest only](#Interest-only)<br>\n",
        "    2.16. [Lump sum payment](#Lump-sum-payment)<br>\n",
        "    2.17. [Property value](#Property-value)<br>\n",
        "    2.18. [Construction type](#Construction-type)<br>\n",
        "    2.19. [Occupancy type](#Occupancy-type)<br>\n",
        "    2.20. [Property type](#Property-type)<br>\n",
        "    2.21. [Units](#Units)<br>\n",
        "    2.22. [Income](#Income)<br>\n",
        "    2.23. [Credit type](#Credit-type)<br>\n",
        "    2.24. [CoBorrower credit type](#CoBorrower-credit-type)<br>\n",
        "    2.25. [Age](#Age)<br>\n",
        "    2.26. [Application taken](#Application-taken)<br>\n",
        "    2.27. [LTV](#LTV)<br>\n",
        "    2.28. [Deposit type](#Deposit-type)<br>\n",
        "    2.29. [Status](#Status)<br>\n",
        "3. [Fair Credit](#Fair-credit)<br>\n",
        "4. [Build Model](#Model)<br>\n",
        "5. [Improve Model](#Improve-model)<br>\n",
        "6. [Evaluate Model](#Evaluate-model)<br>"
      ]
    },
    {
      "cell_type": "markdown",
      "metadata": {
        "id": "DqnCkqSbmg0q"
      },
      "source": [
        "### Notebook setup"
      ]
    },
    {
      "cell_type": "code",
      "execution_count": null,
      "metadata": {
        "pycharm": {
          "is_executing": true
        },
        "id": "se3a12b0mg0r"
      },
      "outputs": [],
      "source": [
        "import pandas as pd\n",
        "import numpy as np\n",
        "import matplotlib.pyplot as plt\n",
        "import seaborn as sns\n",
        "from sklearn.model_selection import train_test_split, GridSearchCV\n",
        "from sklearn.neural_network import MLPClassifier\n",
        "from sklearn.model_selection import ParameterGrid, StratifiedKFold\n",
        "from sklearn.metrics import classification_report\n",
        "\n",
        "%matplotlib inline"
      ]
    },
    {
      "cell_type": "code",
      "execution_count": null,
      "metadata": {
        "pycharm": {
          "is_executing": true
        },
        "id": "C3nsRnFLmg0s"
      },
      "outputs": [],
      "source": [
        "dataset = pd.read_csv('data.csv')"
      ]
    },
    {
      "cell_type": "code",
      "execution_count": null,
      "metadata": {
        "pycharm": {
          "is_executing": true
        },
        "colab": {
          "base_uri": "https://localhost:8080/",
          "height": 404
        },
        "id": "NM3qiusymg0s",
        "outputId": "dd0825f2-ed8c-4472-dc94-162d1486ffd1"
      },
      "outputs": [
        {
          "output_type": "execute_result",
          "data": {
            "text/plain": [
              "      ID  year loan_limit             Gender approv_in_adv loan_type  \\\n",
              "0  24890  2019         cf  Sex Not Available         nopre     type1   \n",
              "1  24891  2019         cf               Male         nopre     type2   \n",
              "2  24892  2019         cf               Male           pre     type1   \n",
              "3  24893  2019         cf               Male         nopre     type1   \n",
              "4  24894  2019         cf              Joint           pre     type1   \n",
              "\n",
              "  loan_purpose Credit_Worthiness open_credit business_or_commercial  ...  \\\n",
              "0           p1                l1        nopc                  nob/c  ...   \n",
              "1           p1                l1        nopc                    b/c  ...   \n",
              "2           p1                l1        nopc                  nob/c  ...   \n",
              "3           p4                l1        nopc                  nob/c  ...   \n",
              "4           p1                l1        nopc                  nob/c  ...   \n",
              "\n",
              "   credit_type  Credit_Score  co-applicant_credit_type    age  \\\n",
              "0          EXP           758                       CIB  25-34   \n",
              "1         EQUI           552                       EXP  55-64   \n",
              "2          EXP           834                       CIB  35-44   \n",
              "3          EXP           587                       CIB  45-54   \n",
              "4         CRIF           602                       EXP  25-34   \n",
              "\n",
              "   submission_of_application        LTV Region Security_Type  Status dtir1  \n",
              "0                    to_inst  98.728814  south        direct       1  45.0  \n",
              "1                    to_inst        NaN  North        direct       1   NaN  \n",
              "2                    to_inst  80.019685  south        direct       0  46.0  \n",
              "3                   not_inst  69.376900  North        direct       0  42.0  \n",
              "4                   not_inst  91.886544  North        direct       0  39.0  \n",
              "\n",
              "[5 rows x 34 columns]"
            ],
            "text/html": [
              "\n",
              "  <div id=\"df-05666371-4fbb-437c-a4a5-f58446b40a59\">\n",
              "    <div class=\"colab-df-container\">\n",
              "      <div>\n",
              "<style scoped>\n",
              "    .dataframe tbody tr th:only-of-type {\n",
              "        vertical-align: middle;\n",
              "    }\n",
              "\n",
              "    .dataframe tbody tr th {\n",
              "        vertical-align: top;\n",
              "    }\n",
              "\n",
              "    .dataframe thead th {\n",
              "        text-align: right;\n",
              "    }\n",
              "</style>\n",
              "<table border=\"1\" class=\"dataframe\">\n",
              "  <thead>\n",
              "    <tr style=\"text-align: right;\">\n",
              "      <th></th>\n",
              "      <th>ID</th>\n",
              "      <th>year</th>\n",
              "      <th>loan_limit</th>\n",
              "      <th>Gender</th>\n",
              "      <th>approv_in_adv</th>\n",
              "      <th>loan_type</th>\n",
              "      <th>loan_purpose</th>\n",
              "      <th>Credit_Worthiness</th>\n",
              "      <th>open_credit</th>\n",
              "      <th>business_or_commercial</th>\n",
              "      <th>...</th>\n",
              "      <th>credit_type</th>\n",
              "      <th>Credit_Score</th>\n",
              "      <th>co-applicant_credit_type</th>\n",
              "      <th>age</th>\n",
              "      <th>submission_of_application</th>\n",
              "      <th>LTV</th>\n",
              "      <th>Region</th>\n",
              "      <th>Security_Type</th>\n",
              "      <th>Status</th>\n",
              "      <th>dtir1</th>\n",
              "    </tr>\n",
              "  </thead>\n",
              "  <tbody>\n",
              "    <tr>\n",
              "      <th>0</th>\n",
              "      <td>24890</td>\n",
              "      <td>2019</td>\n",
              "      <td>cf</td>\n",
              "      <td>Sex Not Available</td>\n",
              "      <td>nopre</td>\n",
              "      <td>type1</td>\n",
              "      <td>p1</td>\n",
              "      <td>l1</td>\n",
              "      <td>nopc</td>\n",
              "      <td>nob/c</td>\n",
              "      <td>...</td>\n",
              "      <td>EXP</td>\n",
              "      <td>758</td>\n",
              "      <td>CIB</td>\n",
              "      <td>25-34</td>\n",
              "      <td>to_inst</td>\n",
              "      <td>98.728814</td>\n",
              "      <td>south</td>\n",
              "      <td>direct</td>\n",
              "      <td>1</td>\n",
              "      <td>45.0</td>\n",
              "    </tr>\n",
              "    <tr>\n",
              "      <th>1</th>\n",
              "      <td>24891</td>\n",
              "      <td>2019</td>\n",
              "      <td>cf</td>\n",
              "      <td>Male</td>\n",
              "      <td>nopre</td>\n",
              "      <td>type2</td>\n",
              "      <td>p1</td>\n",
              "      <td>l1</td>\n",
              "      <td>nopc</td>\n",
              "      <td>b/c</td>\n",
              "      <td>...</td>\n",
              "      <td>EQUI</td>\n",
              "      <td>552</td>\n",
              "      <td>EXP</td>\n",
              "      <td>55-64</td>\n",
              "      <td>to_inst</td>\n",
              "      <td>NaN</td>\n",
              "      <td>North</td>\n",
              "      <td>direct</td>\n",
              "      <td>1</td>\n",
              "      <td>NaN</td>\n",
              "    </tr>\n",
              "    <tr>\n",
              "      <th>2</th>\n",
              "      <td>24892</td>\n",
              "      <td>2019</td>\n",
              "      <td>cf</td>\n",
              "      <td>Male</td>\n",
              "      <td>pre</td>\n",
              "      <td>type1</td>\n",
              "      <td>p1</td>\n",
              "      <td>l1</td>\n",
              "      <td>nopc</td>\n",
              "      <td>nob/c</td>\n",
              "      <td>...</td>\n",
              "      <td>EXP</td>\n",
              "      <td>834</td>\n",
              "      <td>CIB</td>\n",
              "      <td>35-44</td>\n",
              "      <td>to_inst</td>\n",
              "      <td>80.019685</td>\n",
              "      <td>south</td>\n",
              "      <td>direct</td>\n",
              "      <td>0</td>\n",
              "      <td>46.0</td>\n",
              "    </tr>\n",
              "    <tr>\n",
              "      <th>3</th>\n",
              "      <td>24893</td>\n",
              "      <td>2019</td>\n",
              "      <td>cf</td>\n",
              "      <td>Male</td>\n",
              "      <td>nopre</td>\n",
              "      <td>type1</td>\n",
              "      <td>p4</td>\n",
              "      <td>l1</td>\n",
              "      <td>nopc</td>\n",
              "      <td>nob/c</td>\n",
              "      <td>...</td>\n",
              "      <td>EXP</td>\n",
              "      <td>587</td>\n",
              "      <td>CIB</td>\n",
              "      <td>45-54</td>\n",
              "      <td>not_inst</td>\n",
              "      <td>69.376900</td>\n",
              "      <td>North</td>\n",
              "      <td>direct</td>\n",
              "      <td>0</td>\n",
              "      <td>42.0</td>\n",
              "    </tr>\n",
              "    <tr>\n",
              "      <th>4</th>\n",
              "      <td>24894</td>\n",
              "      <td>2019</td>\n",
              "      <td>cf</td>\n",
              "      <td>Joint</td>\n",
              "      <td>pre</td>\n",
              "      <td>type1</td>\n",
              "      <td>p1</td>\n",
              "      <td>l1</td>\n",
              "      <td>nopc</td>\n",
              "      <td>nob/c</td>\n",
              "      <td>...</td>\n",
              "      <td>CRIF</td>\n",
              "      <td>602</td>\n",
              "      <td>EXP</td>\n",
              "      <td>25-34</td>\n",
              "      <td>not_inst</td>\n",
              "      <td>91.886544</td>\n",
              "      <td>North</td>\n",
              "      <td>direct</td>\n",
              "      <td>0</td>\n",
              "      <td>39.0</td>\n",
              "    </tr>\n",
              "  </tbody>\n",
              "</table>\n",
              "<p>5 rows × 34 columns</p>\n",
              "</div>\n",
              "      <button class=\"colab-df-convert\" onclick=\"convertToInteractive('df-05666371-4fbb-437c-a4a5-f58446b40a59')\"\n",
              "              title=\"Convert this dataframe to an interactive table.\"\n",
              "              style=\"display:none;\">\n",
              "        \n",
              "  <svg xmlns=\"http://www.w3.org/2000/svg\" height=\"24px\"viewBox=\"0 0 24 24\"\n",
              "       width=\"24px\">\n",
              "    <path d=\"M0 0h24v24H0V0z\" fill=\"none\"/>\n",
              "    <path d=\"M18.56 5.44l.94 2.06.94-2.06 2.06-.94-2.06-.94-.94-2.06-.94 2.06-2.06.94zm-11 1L8.5 8.5l.94-2.06 2.06-.94-2.06-.94L8.5 2.5l-.94 2.06-2.06.94zm10 10l.94 2.06.94-2.06 2.06-.94-2.06-.94-.94-2.06-.94 2.06-2.06.94z\"/><path d=\"M17.41 7.96l-1.37-1.37c-.4-.4-.92-.59-1.43-.59-.52 0-1.04.2-1.43.59L10.3 9.45l-7.72 7.72c-.78.78-.78 2.05 0 2.83L4 21.41c.39.39.9.59 1.41.59.51 0 1.02-.2 1.41-.59l7.78-7.78 2.81-2.81c.8-.78.8-2.07 0-2.86zM5.41 20L4 18.59l7.72-7.72 1.47 1.35L5.41 20z\"/>\n",
              "  </svg>\n",
              "      </button>\n",
              "      \n",
              "  <style>\n",
              "    .colab-df-container {\n",
              "      display:flex;\n",
              "      flex-wrap:wrap;\n",
              "      gap: 12px;\n",
              "    }\n",
              "\n",
              "    .colab-df-convert {\n",
              "      background-color: #E8F0FE;\n",
              "      border: none;\n",
              "      border-radius: 50%;\n",
              "      cursor: pointer;\n",
              "      display: none;\n",
              "      fill: #1967D2;\n",
              "      height: 32px;\n",
              "      padding: 0 0 0 0;\n",
              "      width: 32px;\n",
              "    }\n",
              "\n",
              "    .colab-df-convert:hover {\n",
              "      background-color: #E2EBFA;\n",
              "      box-shadow: 0px 1px 2px rgba(60, 64, 67, 0.3), 0px 1px 3px 1px rgba(60, 64, 67, 0.15);\n",
              "      fill: #174EA6;\n",
              "    }\n",
              "\n",
              "    [theme=dark] .colab-df-convert {\n",
              "      background-color: #3B4455;\n",
              "      fill: #D2E3FC;\n",
              "    }\n",
              "\n",
              "    [theme=dark] .colab-df-convert:hover {\n",
              "      background-color: #434B5C;\n",
              "      box-shadow: 0px 1px 3px 1px rgba(0, 0, 0, 0.15);\n",
              "      filter: drop-shadow(0px 1px 2px rgba(0, 0, 0, 0.3));\n",
              "      fill: #FFFFFF;\n",
              "    }\n",
              "  </style>\n",
              "\n",
              "      <script>\n",
              "        const buttonEl =\n",
              "          document.querySelector('#df-05666371-4fbb-437c-a4a5-f58446b40a59 button.colab-df-convert');\n",
              "        buttonEl.style.display =\n",
              "          google.colab.kernel.accessAllowed ? 'block' : 'none';\n",
              "\n",
              "        async function convertToInteractive(key) {\n",
              "          const element = document.querySelector('#df-05666371-4fbb-437c-a4a5-f58446b40a59');\n",
              "          const dataTable =\n",
              "            await google.colab.kernel.invokeFunction('convertToInteractive',\n",
              "                                                     [key], {});\n",
              "          if (!dataTable) return;\n",
              "\n",
              "          const docLinkHtml = 'Like what you see? Visit the ' +\n",
              "            '<a target=\"_blank\" href=https://colab.research.google.com/notebooks/data_table.ipynb>data table notebook</a>'\n",
              "            + ' to learn more about interactive tables.';\n",
              "          element.innerHTML = '';\n",
              "          dataTable['output_type'] = 'display_data';\n",
              "          await google.colab.output.renderOutput(dataTable, element);\n",
              "          const docLink = document.createElement('div');\n",
              "          docLink.innerHTML = docLinkHtml;\n",
              "          element.appendChild(docLink);\n",
              "        }\n",
              "      </script>\n",
              "    </div>\n",
              "  </div>\n",
              "  "
            ]
          },
          "metadata": {},
          "execution_count": 5
        }
      ],
      "source": [
        "dataset.head()"
      ]
    },
    {
      "cell_type": "markdown",
      "metadata": {
        "id": "bpAVKzJLmg0u"
      },
      "source": [
        "Clean up column names"
      ]
    },
    {
      "cell_type": "code",
      "execution_count": null,
      "metadata": {
        "pycharm": {
          "is_executing": true
        },
        "id": "CO9-we_Img0u"
      },
      "outputs": [],
      "source": [
        "dataset.columns= dataset.columns.str.lower()"
      ]
    },
    {
      "cell_type": "code",
      "execution_count": null,
      "metadata": {
        "pycharm": {
          "is_executing": true
        },
        "colab": {
          "base_uri": "https://localhost:8080/"
        },
        "id": "EVUjfLB3mg0v",
        "outputId": "4bbe76dc-7ec7-4f25-a6ad-560be89af737"
      },
      "outputs": [
        {
          "output_type": "stream",
          "name": "stdout",
          "text": [
            "<class 'pandas.core.frame.DataFrame'>\n",
            "RangeIndex: 148670 entries, 0 to 148669\n",
            "Data columns (total 34 columns):\n",
            " #   Column                     Non-Null Count   Dtype  \n",
            "---  ------                     --------------   -----  \n",
            " 0   id                         148670 non-null  int64  \n",
            " 1   year                       148670 non-null  int64  \n",
            " 2   loan_limit                 145326 non-null  object \n",
            " 3   gender                     148670 non-null  object \n",
            " 4   approv_in_adv              147762 non-null  object \n",
            " 5   loan_type                  148670 non-null  object \n",
            " 6   loan_purpose               148536 non-null  object \n",
            " 7   credit_worthiness          148670 non-null  object \n",
            " 8   open_credit                148670 non-null  object \n",
            " 9   business_or_commercial     148670 non-null  object \n",
            " 10  loan_amount                148670 non-null  int64  \n",
            " 11  rate_of_interest           112231 non-null  float64\n",
            " 12  interest_rate_spread       112031 non-null  float64\n",
            " 13  upfront_charges            109028 non-null  float64\n",
            " 14  term                       148629 non-null  float64\n",
            " 15  neg_ammortization          148549 non-null  object \n",
            " 16  interest_only              148670 non-null  object \n",
            " 17  lump_sum_payment           148670 non-null  object \n",
            " 18  property_value             133572 non-null  float64\n",
            " 19  construction_type          148670 non-null  object \n",
            " 20  occupancy_type             148670 non-null  object \n",
            " 21  secured_by                 148670 non-null  object \n",
            " 22  total_units                148670 non-null  object \n",
            " 23  income                     139520 non-null  float64\n",
            " 24  credit_type                148670 non-null  object \n",
            " 25  credit_score               148670 non-null  int64  \n",
            " 26  co-applicant_credit_type   148670 non-null  object \n",
            " 27  age                        148470 non-null  object \n",
            " 28  submission_of_application  148470 non-null  object \n",
            " 29  ltv                        133572 non-null  float64\n",
            " 30  region                     148670 non-null  object \n",
            " 31  security_type              148670 non-null  object \n",
            " 32  status                     148670 non-null  int64  \n",
            " 33  dtir1                      124549 non-null  float64\n",
            "dtypes: float64(8), int64(5), object(21)\n",
            "memory usage: 38.6+ MB\n"
          ]
        }
      ],
      "source": [
        "dataset.info()"
      ]
    },
    {
      "cell_type": "markdown",
      "metadata": {
        "id": "BE5kAkVWmg0w"
      },
      "source": [
        "### ETL"
      ]
    },
    {
      "cell_type": "markdown",
      "metadata": {
        "id": "MVYlgr7tmg0w"
      },
      "source": [
        "There are 34 features in the dataset. Analyze each feature setting the correct datatype, imputing missing values as needed and dropping features as needed"
      ]
    },
    {
      "cell_type": "markdown",
      "metadata": {
        "id": "4t4jhRRmmg0x"
      },
      "source": [
        "#### ID"
      ]
    },
    {
      "cell_type": "markdown",
      "metadata": {
        "id": "e7ngjfHrmg0x"
      },
      "source": [
        "ID can be dropped...status will be the independent feature"
      ]
    },
    {
      "cell_type": "code",
      "execution_count": null,
      "metadata": {
        "pycharm": {
          "is_executing": true
        },
        "id": "AFBgBmzQmg0y"
      },
      "outputs": [],
      "source": [
        "dataset.drop('id', inplace=True, axis=1)"
      ]
    },
    {
      "cell_type": "code",
      "execution_count": null,
      "metadata": {
        "pycharm": {
          "is_executing": true
        },
        "colab": {
          "base_uri": "https://localhost:8080/",
          "height": 404
        },
        "id": "pJwYHHL2mg0y",
        "outputId": "105d4f8c-79c0-47f8-8cca-90feec6aec3b"
      },
      "outputs": [
        {
          "output_type": "execute_result",
          "data": {
            "text/plain": [
              "   year loan_limit             gender approv_in_adv loan_type loan_purpose  \\\n",
              "0  2019         cf  Sex Not Available         nopre     type1           p1   \n",
              "1  2019         cf               Male         nopre     type2           p1   \n",
              "2  2019         cf               Male           pre     type1           p1   \n",
              "3  2019         cf               Male         nopre     type1           p4   \n",
              "4  2019         cf              Joint           pre     type1           p1   \n",
              "\n",
              "  credit_worthiness open_credit business_or_commercial  loan_amount  ...  \\\n",
              "0                l1        nopc                  nob/c       116500  ...   \n",
              "1                l1        nopc                    b/c       206500  ...   \n",
              "2                l1        nopc                  nob/c       406500  ...   \n",
              "3                l1        nopc                  nob/c       456500  ...   \n",
              "4                l1        nopc                  nob/c       696500  ...   \n",
              "\n",
              "   credit_type  credit_score  co-applicant_credit_type    age  \\\n",
              "0          EXP           758                       CIB  25-34   \n",
              "1         EQUI           552                       EXP  55-64   \n",
              "2          EXP           834                       CIB  35-44   \n",
              "3          EXP           587                       CIB  45-54   \n",
              "4         CRIF           602                       EXP  25-34   \n",
              "\n",
              "  submission_of_application        ltv region  security_type status dtir1  \n",
              "0                   to_inst  98.728814  south         direct      1  45.0  \n",
              "1                   to_inst        NaN  North         direct      1   NaN  \n",
              "2                   to_inst  80.019685  south         direct      0  46.0  \n",
              "3                  not_inst  69.376900  North         direct      0  42.0  \n",
              "4                  not_inst  91.886544  North         direct      0  39.0  \n",
              "\n",
              "[5 rows x 33 columns]"
            ],
            "text/html": [
              "\n",
              "  <div id=\"df-d898903b-a4c6-4024-a9a4-10a3dea515f7\">\n",
              "    <div class=\"colab-df-container\">\n",
              "      <div>\n",
              "<style scoped>\n",
              "    .dataframe tbody tr th:only-of-type {\n",
              "        vertical-align: middle;\n",
              "    }\n",
              "\n",
              "    .dataframe tbody tr th {\n",
              "        vertical-align: top;\n",
              "    }\n",
              "\n",
              "    .dataframe thead th {\n",
              "        text-align: right;\n",
              "    }\n",
              "</style>\n",
              "<table border=\"1\" class=\"dataframe\">\n",
              "  <thead>\n",
              "    <tr style=\"text-align: right;\">\n",
              "      <th></th>\n",
              "      <th>year</th>\n",
              "      <th>loan_limit</th>\n",
              "      <th>gender</th>\n",
              "      <th>approv_in_adv</th>\n",
              "      <th>loan_type</th>\n",
              "      <th>loan_purpose</th>\n",
              "      <th>credit_worthiness</th>\n",
              "      <th>open_credit</th>\n",
              "      <th>business_or_commercial</th>\n",
              "      <th>loan_amount</th>\n",
              "      <th>...</th>\n",
              "      <th>credit_type</th>\n",
              "      <th>credit_score</th>\n",
              "      <th>co-applicant_credit_type</th>\n",
              "      <th>age</th>\n",
              "      <th>submission_of_application</th>\n",
              "      <th>ltv</th>\n",
              "      <th>region</th>\n",
              "      <th>security_type</th>\n",
              "      <th>status</th>\n",
              "      <th>dtir1</th>\n",
              "    </tr>\n",
              "  </thead>\n",
              "  <tbody>\n",
              "    <tr>\n",
              "      <th>0</th>\n",
              "      <td>2019</td>\n",
              "      <td>cf</td>\n",
              "      <td>Sex Not Available</td>\n",
              "      <td>nopre</td>\n",
              "      <td>type1</td>\n",
              "      <td>p1</td>\n",
              "      <td>l1</td>\n",
              "      <td>nopc</td>\n",
              "      <td>nob/c</td>\n",
              "      <td>116500</td>\n",
              "      <td>...</td>\n",
              "      <td>EXP</td>\n",
              "      <td>758</td>\n",
              "      <td>CIB</td>\n",
              "      <td>25-34</td>\n",
              "      <td>to_inst</td>\n",
              "      <td>98.728814</td>\n",
              "      <td>south</td>\n",
              "      <td>direct</td>\n",
              "      <td>1</td>\n",
              "      <td>45.0</td>\n",
              "    </tr>\n",
              "    <tr>\n",
              "      <th>1</th>\n",
              "      <td>2019</td>\n",
              "      <td>cf</td>\n",
              "      <td>Male</td>\n",
              "      <td>nopre</td>\n",
              "      <td>type2</td>\n",
              "      <td>p1</td>\n",
              "      <td>l1</td>\n",
              "      <td>nopc</td>\n",
              "      <td>b/c</td>\n",
              "      <td>206500</td>\n",
              "      <td>...</td>\n",
              "      <td>EQUI</td>\n",
              "      <td>552</td>\n",
              "      <td>EXP</td>\n",
              "      <td>55-64</td>\n",
              "      <td>to_inst</td>\n",
              "      <td>NaN</td>\n",
              "      <td>North</td>\n",
              "      <td>direct</td>\n",
              "      <td>1</td>\n",
              "      <td>NaN</td>\n",
              "    </tr>\n",
              "    <tr>\n",
              "      <th>2</th>\n",
              "      <td>2019</td>\n",
              "      <td>cf</td>\n",
              "      <td>Male</td>\n",
              "      <td>pre</td>\n",
              "      <td>type1</td>\n",
              "      <td>p1</td>\n",
              "      <td>l1</td>\n",
              "      <td>nopc</td>\n",
              "      <td>nob/c</td>\n",
              "      <td>406500</td>\n",
              "      <td>...</td>\n",
              "      <td>EXP</td>\n",
              "      <td>834</td>\n",
              "      <td>CIB</td>\n",
              "      <td>35-44</td>\n",
              "      <td>to_inst</td>\n",
              "      <td>80.019685</td>\n",
              "      <td>south</td>\n",
              "      <td>direct</td>\n",
              "      <td>0</td>\n",
              "      <td>46.0</td>\n",
              "    </tr>\n",
              "    <tr>\n",
              "      <th>3</th>\n",
              "      <td>2019</td>\n",
              "      <td>cf</td>\n",
              "      <td>Male</td>\n",
              "      <td>nopre</td>\n",
              "      <td>type1</td>\n",
              "      <td>p4</td>\n",
              "      <td>l1</td>\n",
              "      <td>nopc</td>\n",
              "      <td>nob/c</td>\n",
              "      <td>456500</td>\n",
              "      <td>...</td>\n",
              "      <td>EXP</td>\n",
              "      <td>587</td>\n",
              "      <td>CIB</td>\n",
              "      <td>45-54</td>\n",
              "      <td>not_inst</td>\n",
              "      <td>69.376900</td>\n",
              "      <td>North</td>\n",
              "      <td>direct</td>\n",
              "      <td>0</td>\n",
              "      <td>42.0</td>\n",
              "    </tr>\n",
              "    <tr>\n",
              "      <th>4</th>\n",
              "      <td>2019</td>\n",
              "      <td>cf</td>\n",
              "      <td>Joint</td>\n",
              "      <td>pre</td>\n",
              "      <td>type1</td>\n",
              "      <td>p1</td>\n",
              "      <td>l1</td>\n",
              "      <td>nopc</td>\n",
              "      <td>nob/c</td>\n",
              "      <td>696500</td>\n",
              "      <td>...</td>\n",
              "      <td>CRIF</td>\n",
              "      <td>602</td>\n",
              "      <td>EXP</td>\n",
              "      <td>25-34</td>\n",
              "      <td>not_inst</td>\n",
              "      <td>91.886544</td>\n",
              "      <td>North</td>\n",
              "      <td>direct</td>\n",
              "      <td>0</td>\n",
              "      <td>39.0</td>\n",
              "    </tr>\n",
              "  </tbody>\n",
              "</table>\n",
              "<p>5 rows × 33 columns</p>\n",
              "</div>\n",
              "      <button class=\"colab-df-convert\" onclick=\"convertToInteractive('df-d898903b-a4c6-4024-a9a4-10a3dea515f7')\"\n",
              "              title=\"Convert this dataframe to an interactive table.\"\n",
              "              style=\"display:none;\">\n",
              "        \n",
              "  <svg xmlns=\"http://www.w3.org/2000/svg\" height=\"24px\"viewBox=\"0 0 24 24\"\n",
              "       width=\"24px\">\n",
              "    <path d=\"M0 0h24v24H0V0z\" fill=\"none\"/>\n",
              "    <path d=\"M18.56 5.44l.94 2.06.94-2.06 2.06-.94-2.06-.94-.94-2.06-.94 2.06-2.06.94zm-11 1L8.5 8.5l.94-2.06 2.06-.94-2.06-.94L8.5 2.5l-.94 2.06-2.06.94zm10 10l.94 2.06.94-2.06 2.06-.94-2.06-.94-.94-2.06-.94 2.06-2.06.94z\"/><path d=\"M17.41 7.96l-1.37-1.37c-.4-.4-.92-.59-1.43-.59-.52 0-1.04.2-1.43.59L10.3 9.45l-7.72 7.72c-.78.78-.78 2.05 0 2.83L4 21.41c.39.39.9.59 1.41.59.51 0 1.02-.2 1.41-.59l7.78-7.78 2.81-2.81c.8-.78.8-2.07 0-2.86zM5.41 20L4 18.59l7.72-7.72 1.47 1.35L5.41 20z\"/>\n",
              "  </svg>\n",
              "      </button>\n",
              "      \n",
              "  <style>\n",
              "    .colab-df-container {\n",
              "      display:flex;\n",
              "      flex-wrap:wrap;\n",
              "      gap: 12px;\n",
              "    }\n",
              "\n",
              "    .colab-df-convert {\n",
              "      background-color: #E8F0FE;\n",
              "      border: none;\n",
              "      border-radius: 50%;\n",
              "      cursor: pointer;\n",
              "      display: none;\n",
              "      fill: #1967D2;\n",
              "      height: 32px;\n",
              "      padding: 0 0 0 0;\n",
              "      width: 32px;\n",
              "    }\n",
              "\n",
              "    .colab-df-convert:hover {\n",
              "      background-color: #E2EBFA;\n",
              "      box-shadow: 0px 1px 2px rgba(60, 64, 67, 0.3), 0px 1px 3px 1px rgba(60, 64, 67, 0.15);\n",
              "      fill: #174EA6;\n",
              "    }\n",
              "\n",
              "    [theme=dark] .colab-df-convert {\n",
              "      background-color: #3B4455;\n",
              "      fill: #D2E3FC;\n",
              "    }\n",
              "\n",
              "    [theme=dark] .colab-df-convert:hover {\n",
              "      background-color: #434B5C;\n",
              "      box-shadow: 0px 1px 3px 1px rgba(0, 0, 0, 0.15);\n",
              "      filter: drop-shadow(0px 1px 2px rgba(0, 0, 0, 0.3));\n",
              "      fill: #FFFFFF;\n",
              "    }\n",
              "  </style>\n",
              "\n",
              "      <script>\n",
              "        const buttonEl =\n",
              "          document.querySelector('#df-d898903b-a4c6-4024-a9a4-10a3dea515f7 button.colab-df-convert');\n",
              "        buttonEl.style.display =\n",
              "          google.colab.kernel.accessAllowed ? 'block' : 'none';\n",
              "\n",
              "        async function convertToInteractive(key) {\n",
              "          const element = document.querySelector('#df-d898903b-a4c6-4024-a9a4-10a3dea515f7');\n",
              "          const dataTable =\n",
              "            await google.colab.kernel.invokeFunction('convertToInteractive',\n",
              "                                                     [key], {});\n",
              "          if (!dataTable) return;\n",
              "\n",
              "          const docLinkHtml = 'Like what you see? Visit the ' +\n",
              "            '<a target=\"_blank\" href=https://colab.research.google.com/notebooks/data_table.ipynb>data table notebook</a>'\n",
              "            + ' to learn more about interactive tables.';\n",
              "          element.innerHTML = '';\n",
              "          dataTable['output_type'] = 'display_data';\n",
              "          await google.colab.output.renderOutput(dataTable, element);\n",
              "          const docLink = document.createElement('div');\n",
              "          docLink.innerHTML = docLinkHtml;\n",
              "          element.appendChild(docLink);\n",
              "        }\n",
              "      </script>\n",
              "    </div>\n",
              "  </div>\n",
              "  "
            ]
          },
          "metadata": {},
          "execution_count": 9
        }
      ],
      "source": [
        "dataset.head()"
      ]
    },
    {
      "cell_type": "markdown",
      "metadata": {
        "id": "Y9OLTFo7mg0y"
      },
      "source": [
        "#### Year"
      ]
    },
    {
      "cell_type": "code",
      "execution_count": null,
      "metadata": {
        "pycharm": {
          "is_executing": true
        },
        "colab": {
          "base_uri": "https://localhost:8080/"
        },
        "id": "HcF0s4S8mg0y",
        "outputId": "b9913bdc-8949-4d7d-dc3b-d5f386c9d6df"
      },
      "outputs": [
        {
          "output_type": "execute_result",
          "data": {
            "text/plain": [
              "array([2019])"
            ]
          },
          "metadata": {},
          "execution_count": 10
        }
      ],
      "source": [
        "dataset['year'].unique()"
      ]
    },
    {
      "cell_type": "markdown",
      "metadata": {
        "id": "-4mva-pvmg0z"
      },
      "source": [
        "All values in the year column are for 2019. This column can be dropped."
      ]
    },
    {
      "cell_type": "code",
      "execution_count": null,
      "metadata": {
        "pycharm": {
          "is_executing": true
        },
        "id": "P2DBIe2emg0z"
      },
      "outputs": [],
      "source": [
        "dataset.drop('year', inplace=True, axis=1)"
      ]
    },
    {
      "cell_type": "code",
      "execution_count": null,
      "metadata": {
        "pycharm": {
          "is_executing": true
        },
        "colab": {
          "base_uri": "https://localhost:8080/",
          "height": 404
        },
        "id": "B2SW_GmQmg0z",
        "outputId": "545a2a5c-089a-4745-df45-d41ef58025af"
      },
      "outputs": [
        {
          "output_type": "execute_result",
          "data": {
            "text/plain": [
              "  loan_limit             gender approv_in_adv loan_type loan_purpose  \\\n",
              "0         cf  Sex Not Available         nopre     type1           p1   \n",
              "1         cf               Male         nopre     type2           p1   \n",
              "2         cf               Male           pre     type1           p1   \n",
              "3         cf               Male         nopre     type1           p4   \n",
              "4         cf              Joint           pre     type1           p1   \n",
              "\n",
              "  credit_worthiness open_credit business_or_commercial  loan_amount  \\\n",
              "0                l1        nopc                  nob/c       116500   \n",
              "1                l1        nopc                    b/c       206500   \n",
              "2                l1        nopc                  nob/c       406500   \n",
              "3                l1        nopc                  nob/c       456500   \n",
              "4                l1        nopc                  nob/c       696500   \n",
              "\n",
              "   rate_of_interest  ...  credit_type  credit_score  co-applicant_credit_type  \\\n",
              "0               NaN  ...          EXP           758                       CIB   \n",
              "1               NaN  ...         EQUI           552                       EXP   \n",
              "2              4.56  ...          EXP           834                       CIB   \n",
              "3              4.25  ...          EXP           587                       CIB   \n",
              "4              4.00  ...         CRIF           602                       EXP   \n",
              "\n",
              "     age submission_of_application        ltv  region security_type status  \\\n",
              "0  25-34                   to_inst  98.728814   south        direct      1   \n",
              "1  55-64                   to_inst        NaN   North        direct      1   \n",
              "2  35-44                   to_inst  80.019685   south        direct      0   \n",
              "3  45-54                  not_inst  69.376900   North        direct      0   \n",
              "4  25-34                  not_inst  91.886544   North        direct      0   \n",
              "\n",
              "  dtir1  \n",
              "0  45.0  \n",
              "1   NaN  \n",
              "2  46.0  \n",
              "3  42.0  \n",
              "4  39.0  \n",
              "\n",
              "[5 rows x 32 columns]"
            ],
            "text/html": [
              "\n",
              "  <div id=\"df-5d2f54a5-8662-42c5-b271-1db285d6a86e\">\n",
              "    <div class=\"colab-df-container\">\n",
              "      <div>\n",
              "<style scoped>\n",
              "    .dataframe tbody tr th:only-of-type {\n",
              "        vertical-align: middle;\n",
              "    }\n",
              "\n",
              "    .dataframe tbody tr th {\n",
              "        vertical-align: top;\n",
              "    }\n",
              "\n",
              "    .dataframe thead th {\n",
              "        text-align: right;\n",
              "    }\n",
              "</style>\n",
              "<table border=\"1\" class=\"dataframe\">\n",
              "  <thead>\n",
              "    <tr style=\"text-align: right;\">\n",
              "      <th></th>\n",
              "      <th>loan_limit</th>\n",
              "      <th>gender</th>\n",
              "      <th>approv_in_adv</th>\n",
              "      <th>loan_type</th>\n",
              "      <th>loan_purpose</th>\n",
              "      <th>credit_worthiness</th>\n",
              "      <th>open_credit</th>\n",
              "      <th>business_or_commercial</th>\n",
              "      <th>loan_amount</th>\n",
              "      <th>rate_of_interest</th>\n",
              "      <th>...</th>\n",
              "      <th>credit_type</th>\n",
              "      <th>credit_score</th>\n",
              "      <th>co-applicant_credit_type</th>\n",
              "      <th>age</th>\n",
              "      <th>submission_of_application</th>\n",
              "      <th>ltv</th>\n",
              "      <th>region</th>\n",
              "      <th>security_type</th>\n",
              "      <th>status</th>\n",
              "      <th>dtir1</th>\n",
              "    </tr>\n",
              "  </thead>\n",
              "  <tbody>\n",
              "    <tr>\n",
              "      <th>0</th>\n",
              "      <td>cf</td>\n",
              "      <td>Sex Not Available</td>\n",
              "      <td>nopre</td>\n",
              "      <td>type1</td>\n",
              "      <td>p1</td>\n",
              "      <td>l1</td>\n",
              "      <td>nopc</td>\n",
              "      <td>nob/c</td>\n",
              "      <td>116500</td>\n",
              "      <td>NaN</td>\n",
              "      <td>...</td>\n",
              "      <td>EXP</td>\n",
              "      <td>758</td>\n",
              "      <td>CIB</td>\n",
              "      <td>25-34</td>\n",
              "      <td>to_inst</td>\n",
              "      <td>98.728814</td>\n",
              "      <td>south</td>\n",
              "      <td>direct</td>\n",
              "      <td>1</td>\n",
              "      <td>45.0</td>\n",
              "    </tr>\n",
              "    <tr>\n",
              "      <th>1</th>\n",
              "      <td>cf</td>\n",
              "      <td>Male</td>\n",
              "      <td>nopre</td>\n",
              "      <td>type2</td>\n",
              "      <td>p1</td>\n",
              "      <td>l1</td>\n",
              "      <td>nopc</td>\n",
              "      <td>b/c</td>\n",
              "      <td>206500</td>\n",
              "      <td>NaN</td>\n",
              "      <td>...</td>\n",
              "      <td>EQUI</td>\n",
              "      <td>552</td>\n",
              "      <td>EXP</td>\n",
              "      <td>55-64</td>\n",
              "      <td>to_inst</td>\n",
              "      <td>NaN</td>\n",
              "      <td>North</td>\n",
              "      <td>direct</td>\n",
              "      <td>1</td>\n",
              "      <td>NaN</td>\n",
              "    </tr>\n",
              "    <tr>\n",
              "      <th>2</th>\n",
              "      <td>cf</td>\n",
              "      <td>Male</td>\n",
              "      <td>pre</td>\n",
              "      <td>type1</td>\n",
              "      <td>p1</td>\n",
              "      <td>l1</td>\n",
              "      <td>nopc</td>\n",
              "      <td>nob/c</td>\n",
              "      <td>406500</td>\n",
              "      <td>4.56</td>\n",
              "      <td>...</td>\n",
              "      <td>EXP</td>\n",
              "      <td>834</td>\n",
              "      <td>CIB</td>\n",
              "      <td>35-44</td>\n",
              "      <td>to_inst</td>\n",
              "      <td>80.019685</td>\n",
              "      <td>south</td>\n",
              "      <td>direct</td>\n",
              "      <td>0</td>\n",
              "      <td>46.0</td>\n",
              "    </tr>\n",
              "    <tr>\n",
              "      <th>3</th>\n",
              "      <td>cf</td>\n",
              "      <td>Male</td>\n",
              "      <td>nopre</td>\n",
              "      <td>type1</td>\n",
              "      <td>p4</td>\n",
              "      <td>l1</td>\n",
              "      <td>nopc</td>\n",
              "      <td>nob/c</td>\n",
              "      <td>456500</td>\n",
              "      <td>4.25</td>\n",
              "      <td>...</td>\n",
              "      <td>EXP</td>\n",
              "      <td>587</td>\n",
              "      <td>CIB</td>\n",
              "      <td>45-54</td>\n",
              "      <td>not_inst</td>\n",
              "      <td>69.376900</td>\n",
              "      <td>North</td>\n",
              "      <td>direct</td>\n",
              "      <td>0</td>\n",
              "      <td>42.0</td>\n",
              "    </tr>\n",
              "    <tr>\n",
              "      <th>4</th>\n",
              "      <td>cf</td>\n",
              "      <td>Joint</td>\n",
              "      <td>pre</td>\n",
              "      <td>type1</td>\n",
              "      <td>p1</td>\n",
              "      <td>l1</td>\n",
              "      <td>nopc</td>\n",
              "      <td>nob/c</td>\n",
              "      <td>696500</td>\n",
              "      <td>4.00</td>\n",
              "      <td>...</td>\n",
              "      <td>CRIF</td>\n",
              "      <td>602</td>\n",
              "      <td>EXP</td>\n",
              "      <td>25-34</td>\n",
              "      <td>not_inst</td>\n",
              "      <td>91.886544</td>\n",
              "      <td>North</td>\n",
              "      <td>direct</td>\n",
              "      <td>0</td>\n",
              "      <td>39.0</td>\n",
              "    </tr>\n",
              "  </tbody>\n",
              "</table>\n",
              "<p>5 rows × 32 columns</p>\n",
              "</div>\n",
              "      <button class=\"colab-df-convert\" onclick=\"convertToInteractive('df-5d2f54a5-8662-42c5-b271-1db285d6a86e')\"\n",
              "              title=\"Convert this dataframe to an interactive table.\"\n",
              "              style=\"display:none;\">\n",
              "        \n",
              "  <svg xmlns=\"http://www.w3.org/2000/svg\" height=\"24px\"viewBox=\"0 0 24 24\"\n",
              "       width=\"24px\">\n",
              "    <path d=\"M0 0h24v24H0V0z\" fill=\"none\"/>\n",
              "    <path d=\"M18.56 5.44l.94 2.06.94-2.06 2.06-.94-2.06-.94-.94-2.06-.94 2.06-2.06.94zm-11 1L8.5 8.5l.94-2.06 2.06-.94-2.06-.94L8.5 2.5l-.94 2.06-2.06.94zm10 10l.94 2.06.94-2.06 2.06-.94-2.06-.94-.94-2.06-.94 2.06-2.06.94z\"/><path d=\"M17.41 7.96l-1.37-1.37c-.4-.4-.92-.59-1.43-.59-.52 0-1.04.2-1.43.59L10.3 9.45l-7.72 7.72c-.78.78-.78 2.05 0 2.83L4 21.41c.39.39.9.59 1.41.59.51 0 1.02-.2 1.41-.59l7.78-7.78 2.81-2.81c.8-.78.8-2.07 0-2.86zM5.41 20L4 18.59l7.72-7.72 1.47 1.35L5.41 20z\"/>\n",
              "  </svg>\n",
              "      </button>\n",
              "      \n",
              "  <style>\n",
              "    .colab-df-container {\n",
              "      display:flex;\n",
              "      flex-wrap:wrap;\n",
              "      gap: 12px;\n",
              "    }\n",
              "\n",
              "    .colab-df-convert {\n",
              "      background-color: #E8F0FE;\n",
              "      border: none;\n",
              "      border-radius: 50%;\n",
              "      cursor: pointer;\n",
              "      display: none;\n",
              "      fill: #1967D2;\n",
              "      height: 32px;\n",
              "      padding: 0 0 0 0;\n",
              "      width: 32px;\n",
              "    }\n",
              "\n",
              "    .colab-df-convert:hover {\n",
              "      background-color: #E2EBFA;\n",
              "      box-shadow: 0px 1px 2px rgba(60, 64, 67, 0.3), 0px 1px 3px 1px rgba(60, 64, 67, 0.15);\n",
              "      fill: #174EA6;\n",
              "    }\n",
              "\n",
              "    [theme=dark] .colab-df-convert {\n",
              "      background-color: #3B4455;\n",
              "      fill: #D2E3FC;\n",
              "    }\n",
              "\n",
              "    [theme=dark] .colab-df-convert:hover {\n",
              "      background-color: #434B5C;\n",
              "      box-shadow: 0px 1px 3px 1px rgba(0, 0, 0, 0.15);\n",
              "      filter: drop-shadow(0px 1px 2px rgba(0, 0, 0, 0.3));\n",
              "      fill: #FFFFFF;\n",
              "    }\n",
              "  </style>\n",
              "\n",
              "      <script>\n",
              "        const buttonEl =\n",
              "          document.querySelector('#df-5d2f54a5-8662-42c5-b271-1db285d6a86e button.colab-df-convert');\n",
              "        buttonEl.style.display =\n",
              "          google.colab.kernel.accessAllowed ? 'block' : 'none';\n",
              "\n",
              "        async function convertToInteractive(key) {\n",
              "          const element = document.querySelector('#df-5d2f54a5-8662-42c5-b271-1db285d6a86e');\n",
              "          const dataTable =\n",
              "            await google.colab.kernel.invokeFunction('convertToInteractive',\n",
              "                                                     [key], {});\n",
              "          if (!dataTable) return;\n",
              "\n",
              "          const docLinkHtml = 'Like what you see? Visit the ' +\n",
              "            '<a target=\"_blank\" href=https://colab.research.google.com/notebooks/data_table.ipynb>data table notebook</a>'\n",
              "            + ' to learn more about interactive tables.';\n",
              "          element.innerHTML = '';\n",
              "          dataTable['output_type'] = 'display_data';\n",
              "          await google.colab.output.renderOutput(dataTable, element);\n",
              "          const docLink = document.createElement('div');\n",
              "          docLink.innerHTML = docLinkHtml;\n",
              "          element.appendChild(docLink);\n",
              "        }\n",
              "      </script>\n",
              "    </div>\n",
              "  </div>\n",
              "  "
            ]
          },
          "metadata": {},
          "execution_count": 12
        }
      ],
      "source": [
        "dataset.head()"
      ]
    },
    {
      "cell_type": "markdown",
      "metadata": {
        "id": "1qB56A61mg00"
      },
      "source": [
        "#### Loan limit"
      ]
    },
    {
      "cell_type": "code",
      "execution_count": null,
      "metadata": {
        "pycharm": {
          "is_executing": true
        },
        "colab": {
          "base_uri": "https://localhost:8080/"
        },
        "id": "969IbmhXmg00",
        "outputId": "9d2d5b3d-9af7-4584-dc01-a15e8a1f141e"
      },
      "outputs": [
        {
          "output_type": "execute_result",
          "data": {
            "text/plain": [
              "array(['cf', nan, 'ncf'], dtype=object)"
            ]
          },
          "metadata": {},
          "execution_count": 13
        }
      ],
      "source": [
        "dataset['loan_limit'].unique()"
      ]
    },
    {
      "cell_type": "markdown",
      "metadata": {
        "id": "TmpzQXjgmg00"
      },
      "source": [
        "There are some NaN values in this vector that will need to be cleaned up."
      ]
    },
    {
      "cell_type": "code",
      "execution_count": null,
      "metadata": {
        "pycharm": {
          "is_executing": true
        },
        "colab": {
          "base_uri": "https://localhost:8080/"
        },
        "id": "ox0iaRtJmg00",
        "outputId": "32d267d7-4a88-42b8-9987-c5f65632cfac"
      },
      "outputs": [
        {
          "output_type": "execute_result",
          "data": {
            "text/plain": [
              "3344"
            ]
          },
          "metadata": {},
          "execution_count": 14
        }
      ],
      "source": [
        "# Get a count of the number of applications missing the loan limits\n",
        "dataset[dataset['loan_limit'].isnull()].shape[0]"
      ]
    },
    {
      "cell_type": "markdown",
      "metadata": {
        "id": "ZTezQnf8mg01"
      },
      "source": [
        "3344 applications are missing a loan limit designation"
      ]
    },
    {
      "cell_type": "code",
      "execution_count": null,
      "metadata": {
        "pycharm": {
          "is_executing": true
        },
        "id": "mGHgKLBLmg01"
      },
      "outputs": [],
      "source": [
        "dataset['loan_limit'].fillna(0, inplace=True)"
      ]
    },
    {
      "cell_type": "code",
      "execution_count": null,
      "metadata": {
        "pycharm": {
          "is_executing": true
        },
        "colab": {
          "base_uri": "https://localhost:8080/"
        },
        "id": "pZwsm8NQmg01",
        "outputId": "90b860dc-1082-40f0-88af-85324315f555"
      },
      "outputs": [
        {
          "output_type": "execute_result",
          "data": {
            "text/plain": [
              "array(['cf', 0, 'ncf'], dtype=object)"
            ]
          },
          "metadata": {},
          "execution_count": 16
        }
      ],
      "source": [
        "dataset['loan_limit'].unique()"
      ]
    },
    {
      "cell_type": "markdown",
      "metadata": {
        "id": "En1nrXB3mg01"
      },
      "source": [
        "Encode conforming and non-conforming limits to 1 and 2"
      ]
    },
    {
      "cell_type": "code",
      "execution_count": null,
      "metadata": {
        "pycharm": {
          "is_executing": true
        },
        "id": "SuQbJR-Dmg02"
      },
      "outputs": [],
      "source": [
        "dataset['loan_limit'].replace({'cf': 1, 'ncf': 2}, inplace=True)"
      ]
    },
    {
      "cell_type": "code",
      "execution_count": null,
      "metadata": {
        "pycharm": {
          "is_executing": true
        },
        "colab": {
          "base_uri": "https://localhost:8080/"
        },
        "id": "sY9P1tiPmg02",
        "outputId": "82b69b2a-941a-44eb-d316-df9b3bc5f6af"
      },
      "outputs": [
        {
          "output_type": "execute_result",
          "data": {
            "text/plain": [
              "array([1, 0, 2])"
            ]
          },
          "metadata": {},
          "execution_count": 18
        }
      ],
      "source": [
        "dataset['loan_limit'].unique()"
      ]
    },
    {
      "cell_type": "markdown",
      "metadata": {
        "id": "Zw49vMuDmg02"
      },
      "source": [
        "#### PreApproval"
      ]
    },
    {
      "cell_type": "markdown",
      "metadata": {
        "id": "uXGlEXYCmg02"
      },
      "source": [
        "Rename approv_in_adv to pre_approval"
      ]
    },
    {
      "cell_type": "code",
      "execution_count": null,
      "metadata": {
        "pycharm": {
          "is_executing": true
        },
        "id": "niZsN91Lmg02"
      },
      "outputs": [],
      "source": [
        "dataset.rename(columns={\"approv_in_adv\": \"pre_approval\"}, inplace=True)"
      ]
    },
    {
      "cell_type": "code",
      "execution_count": null,
      "metadata": {
        "pycharm": {
          "is_executing": true
        },
        "colab": {
          "base_uri": "https://localhost:8080/"
        },
        "id": "nD36EHrSmg03",
        "outputId": "b6a4e40e-7591-4367-8a0c-924e2a254cc0"
      },
      "outputs": [
        {
          "output_type": "execute_result",
          "data": {
            "text/plain": [
              "array(['nopre', 'pre', nan], dtype=object)"
            ]
          },
          "metadata": {},
          "execution_count": 20
        }
      ],
      "source": [
        "dataset['pre_approval'].unique()"
      ]
    },
    {
      "cell_type": "markdown",
      "metadata": {
        "id": "w05Ygzxhmg03"
      },
      "source": [
        "Encode nopre and nan to 0, pre to 1"
      ]
    },
    {
      "cell_type": "code",
      "execution_count": null,
      "metadata": {
        "pycharm": {
          "is_executing": true
        },
        "id": "qg5ZUiLHmg03"
      },
      "outputs": [],
      "source": [
        "dataset['pre_approval'].fillna(0, inplace=True)"
      ]
    },
    {
      "cell_type": "code",
      "execution_count": null,
      "metadata": {
        "pycharm": {
          "is_executing": true
        },
        "id": "bsqqxt3emg03"
      },
      "outputs": [],
      "source": [
        "dataset['pre_approval'].replace({'nopre': 0, 'pre': 1}, inplace=True)"
      ]
    },
    {
      "cell_type": "code",
      "execution_count": null,
      "metadata": {
        "pycharm": {
          "is_executing": true
        },
        "colab": {
          "base_uri": "https://localhost:8080/"
        },
        "id": "kgcoKOpkmg03",
        "outputId": "e4f13835-24cf-4315-fef7-a8f64a353a78"
      },
      "outputs": [
        {
          "output_type": "execute_result",
          "data": {
            "text/plain": [
              "array([0, 1])"
            ]
          },
          "metadata": {},
          "execution_count": 23
        }
      ],
      "source": [
        "dataset['pre_approval'].unique()"
      ]
    },
    {
      "cell_type": "markdown",
      "metadata": {
        "id": "mq5QHKHYmg04"
      },
      "source": [
        "#### Loan type"
      ]
    },
    {
      "cell_type": "code",
      "execution_count": null,
      "metadata": {
        "pycharm": {
          "is_executing": true
        },
        "colab": {
          "base_uri": "https://localhost:8080/"
        },
        "id": "JctHhi6gmg04",
        "outputId": "12a9069e-dbea-4e91-8f6d-b333898910d7"
      },
      "outputs": [
        {
          "output_type": "execute_result",
          "data": {
            "text/plain": [
              "array(['type1', 'type2', 'type3'], dtype=object)"
            ]
          },
          "metadata": {},
          "execution_count": 24
        }
      ],
      "source": [
        "dataset['loan_type'].unique()"
      ]
    },
    {
      "cell_type": "markdown",
      "metadata": {
        "id": "dWTDdDLpmg04"
      },
      "source": [
        "Drop the 'type' prefix, cast to int64"
      ]
    },
    {
      "cell_type": "code",
      "execution_count": null,
      "metadata": {
        "pycharm": {
          "is_executing": true
        },
        "id": "7hTWRGlomg04"
      },
      "outputs": [],
      "source": [
        "dataset['loan_type'] = dataset['loan_type'].str.replace('type', '').astype(np.int64)"
      ]
    },
    {
      "cell_type": "code",
      "execution_count": null,
      "metadata": {
        "pycharm": {
          "is_executing": true
        },
        "colab": {
          "base_uri": "https://localhost:8080/"
        },
        "id": "4UD3ZxrKmg04",
        "outputId": "9e6d7705-dc3f-4df9-9ca4-931e931963bb"
      },
      "outputs": [
        {
          "output_type": "execute_result",
          "data": {
            "text/plain": [
              "array([1, 2, 3])"
            ]
          },
          "metadata": {},
          "execution_count": 26
        }
      ],
      "source": [
        "dataset['loan_type'].unique()"
      ]
    },
    {
      "cell_type": "markdown",
      "metadata": {
        "id": "h3F5XmV0mg05"
      },
      "source": [
        "#### Loan purpose"
      ]
    },
    {
      "cell_type": "code",
      "execution_count": null,
      "metadata": {
        "pycharm": {
          "is_executing": true
        },
        "colab": {
          "base_uri": "https://localhost:8080/"
        },
        "id": "rKC2hoXxmg05",
        "outputId": "435d85f0-a3ad-4d4a-baa3-9c7e19b72859"
      },
      "outputs": [
        {
          "output_type": "execute_result",
          "data": {
            "text/plain": [
              "array(['p1', 'p4', 'p3', 'p2', nan], dtype=object)"
            ]
          },
          "metadata": {},
          "execution_count": 27
        }
      ],
      "source": [
        "dataset['loan_purpose'].unique()"
      ]
    },
    {
      "cell_type": "markdown",
      "metadata": {
        "id": "fCquPoUzmg05"
      },
      "source": [
        "Replace NaN with p0 then drop the 'p' prefix then cast as Int64"
      ]
    },
    {
      "cell_type": "code",
      "execution_count": null,
      "metadata": {
        "pycharm": {
          "is_executing": true
        },
        "id": "KZ976e8amg05"
      },
      "outputs": [],
      "source": [
        "dataset['loan_purpose'].fillna('p0', inplace=True)"
      ]
    },
    {
      "cell_type": "code",
      "execution_count": null,
      "metadata": {
        "pycharm": {
          "is_executing": true
        },
        "colab": {
          "base_uri": "https://localhost:8080/"
        },
        "id": "irKrPHlAmg05",
        "outputId": "3276feb6-cd70-4e8c-f677-7069544628bd"
      },
      "outputs": [
        {
          "output_type": "execute_result",
          "data": {
            "text/plain": [
              "array(['p1', 'p4', 'p3', 'p2', 'p0'], dtype=object)"
            ]
          },
          "metadata": {},
          "execution_count": 29
        }
      ],
      "source": [
        "dataset['loan_purpose'].unique()"
      ]
    },
    {
      "cell_type": "code",
      "execution_count": null,
      "metadata": {
        "pycharm": {
          "is_executing": true
        },
        "id": "SGINP_G_mg06"
      },
      "outputs": [],
      "source": [
        "dataset['loan_purpose'] = dataset['loan_purpose'].str.replace('p', '').astype(np.int64)"
      ]
    },
    {
      "cell_type": "code",
      "execution_count": null,
      "metadata": {
        "pycharm": {
          "is_executing": true
        },
        "colab": {
          "base_uri": "https://localhost:8080/"
        },
        "id": "n9xyQfMhmg06",
        "outputId": "20063c1a-09b5-45f5-c40c-28432c2cdafa"
      },
      "outputs": [
        {
          "output_type": "execute_result",
          "data": {
            "text/plain": [
              "array([1, 4, 3, 2, 0])"
            ]
          },
          "metadata": {},
          "execution_count": 31
        }
      ],
      "source": [
        "dataset['loan_purpose'].unique()"
      ]
    },
    {
      "cell_type": "markdown",
      "metadata": {
        "id": "tywq1bzDmg06"
      },
      "source": [
        "#### Credit worthiness"
      ]
    },
    {
      "cell_type": "code",
      "execution_count": null,
      "metadata": {
        "pycharm": {
          "is_executing": true
        },
        "colab": {
          "base_uri": "https://localhost:8080/"
        },
        "id": "PnAjSrKKmg06",
        "outputId": "d80761ea-34c6-49e0-d3ae-bda0b3bc5847"
      },
      "outputs": [
        {
          "output_type": "execute_result",
          "data": {
            "text/plain": [
              "array(['l1', 'l2'], dtype=object)"
            ]
          },
          "metadata": {},
          "execution_count": 32
        }
      ],
      "source": [
        "dataset['credit_worthiness'].unique()"
      ]
    },
    {
      "cell_type": "markdown",
      "metadata": {
        "id": "3eWILKACmg06"
      },
      "source": [
        "Asses the correlation between credit worthiness and mortgage status"
      ]
    },
    {
      "cell_type": "code",
      "execution_count": null,
      "metadata": {
        "pycharm": {
          "is_executing": true
        },
        "id": "MNmPAhv6mg06"
      },
      "outputs": [],
      "source": [
        "credit_worthiness_df = pd.DataFrame(dataset[['credit_worthiness', 'status']])"
      ]
    },
    {
      "cell_type": "code",
      "execution_count": null,
      "metadata": {
        "pycharm": {
          "is_executing": true
        },
        "id": "ie1QPVllmg07"
      },
      "outputs": [],
      "source": [
        "# dataset['pre_approval'].replace({'nopre': 0, 'pre': 1}, inplace=True)\n",
        "credit_worthiness_df['credit_worthiness'].replace({'l1': 0, 'l2': 2}, inplace=True)"
      ]
    },
    {
      "cell_type": "code",
      "execution_count": null,
      "metadata": {
        "pycharm": {
          "is_executing": true
        },
        "colab": {
          "base_uri": "https://localhost:8080/",
          "height": 206
        },
        "id": "YHwkY3QMmg07",
        "outputId": "1f6864e3-cebe-4e77-f993-0c39343ed032"
      },
      "outputs": [
        {
          "output_type": "execute_result",
          "data": {
            "text/plain": [
              "   credit_worthiness  status\n",
              "0                  0       1\n",
              "1                  0       1\n",
              "2                  0       0\n",
              "3                  0       0\n",
              "4                  0       0"
            ],
            "text/html": [
              "\n",
              "  <div id=\"df-eb369e43-e8be-419d-ae5a-e0333d2ed651\">\n",
              "    <div class=\"colab-df-container\">\n",
              "      <div>\n",
              "<style scoped>\n",
              "    .dataframe tbody tr th:only-of-type {\n",
              "        vertical-align: middle;\n",
              "    }\n",
              "\n",
              "    .dataframe tbody tr th {\n",
              "        vertical-align: top;\n",
              "    }\n",
              "\n",
              "    .dataframe thead th {\n",
              "        text-align: right;\n",
              "    }\n",
              "</style>\n",
              "<table border=\"1\" class=\"dataframe\">\n",
              "  <thead>\n",
              "    <tr style=\"text-align: right;\">\n",
              "      <th></th>\n",
              "      <th>credit_worthiness</th>\n",
              "      <th>status</th>\n",
              "    </tr>\n",
              "  </thead>\n",
              "  <tbody>\n",
              "    <tr>\n",
              "      <th>0</th>\n",
              "      <td>0</td>\n",
              "      <td>1</td>\n",
              "    </tr>\n",
              "    <tr>\n",
              "      <th>1</th>\n",
              "      <td>0</td>\n",
              "      <td>1</td>\n",
              "    </tr>\n",
              "    <tr>\n",
              "      <th>2</th>\n",
              "      <td>0</td>\n",
              "      <td>0</td>\n",
              "    </tr>\n",
              "    <tr>\n",
              "      <th>3</th>\n",
              "      <td>0</td>\n",
              "      <td>0</td>\n",
              "    </tr>\n",
              "    <tr>\n",
              "      <th>4</th>\n",
              "      <td>0</td>\n",
              "      <td>0</td>\n",
              "    </tr>\n",
              "  </tbody>\n",
              "</table>\n",
              "</div>\n",
              "      <button class=\"colab-df-convert\" onclick=\"convertToInteractive('df-eb369e43-e8be-419d-ae5a-e0333d2ed651')\"\n",
              "              title=\"Convert this dataframe to an interactive table.\"\n",
              "              style=\"display:none;\">\n",
              "        \n",
              "  <svg xmlns=\"http://www.w3.org/2000/svg\" height=\"24px\"viewBox=\"0 0 24 24\"\n",
              "       width=\"24px\">\n",
              "    <path d=\"M0 0h24v24H0V0z\" fill=\"none\"/>\n",
              "    <path d=\"M18.56 5.44l.94 2.06.94-2.06 2.06-.94-2.06-.94-.94-2.06-.94 2.06-2.06.94zm-11 1L8.5 8.5l.94-2.06 2.06-.94-2.06-.94L8.5 2.5l-.94 2.06-2.06.94zm10 10l.94 2.06.94-2.06 2.06-.94-2.06-.94-.94-2.06-.94 2.06-2.06.94z\"/><path d=\"M17.41 7.96l-1.37-1.37c-.4-.4-.92-.59-1.43-.59-.52 0-1.04.2-1.43.59L10.3 9.45l-7.72 7.72c-.78.78-.78 2.05 0 2.83L4 21.41c.39.39.9.59 1.41.59.51 0 1.02-.2 1.41-.59l7.78-7.78 2.81-2.81c.8-.78.8-2.07 0-2.86zM5.41 20L4 18.59l7.72-7.72 1.47 1.35L5.41 20z\"/>\n",
              "  </svg>\n",
              "      </button>\n",
              "      \n",
              "  <style>\n",
              "    .colab-df-container {\n",
              "      display:flex;\n",
              "      flex-wrap:wrap;\n",
              "      gap: 12px;\n",
              "    }\n",
              "\n",
              "    .colab-df-convert {\n",
              "      background-color: #E8F0FE;\n",
              "      border: none;\n",
              "      border-radius: 50%;\n",
              "      cursor: pointer;\n",
              "      display: none;\n",
              "      fill: #1967D2;\n",
              "      height: 32px;\n",
              "      padding: 0 0 0 0;\n",
              "      width: 32px;\n",
              "    }\n",
              "\n",
              "    .colab-df-convert:hover {\n",
              "      background-color: #E2EBFA;\n",
              "      box-shadow: 0px 1px 2px rgba(60, 64, 67, 0.3), 0px 1px 3px 1px rgba(60, 64, 67, 0.15);\n",
              "      fill: #174EA6;\n",
              "    }\n",
              "\n",
              "    [theme=dark] .colab-df-convert {\n",
              "      background-color: #3B4455;\n",
              "      fill: #D2E3FC;\n",
              "    }\n",
              "\n",
              "    [theme=dark] .colab-df-convert:hover {\n",
              "      background-color: #434B5C;\n",
              "      box-shadow: 0px 1px 3px 1px rgba(0, 0, 0, 0.15);\n",
              "      filter: drop-shadow(0px 1px 2px rgba(0, 0, 0, 0.3));\n",
              "      fill: #FFFFFF;\n",
              "    }\n",
              "  </style>\n",
              "\n",
              "      <script>\n",
              "        const buttonEl =\n",
              "          document.querySelector('#df-eb369e43-e8be-419d-ae5a-e0333d2ed651 button.colab-df-convert');\n",
              "        buttonEl.style.display =\n",
              "          google.colab.kernel.accessAllowed ? 'block' : 'none';\n",
              "\n",
              "        async function convertToInteractive(key) {\n",
              "          const element = document.querySelector('#df-eb369e43-e8be-419d-ae5a-e0333d2ed651');\n",
              "          const dataTable =\n",
              "            await google.colab.kernel.invokeFunction('convertToInteractive',\n",
              "                                                     [key], {});\n",
              "          if (!dataTable) return;\n",
              "\n",
              "          const docLinkHtml = 'Like what you see? Visit the ' +\n",
              "            '<a target=\"_blank\" href=https://colab.research.google.com/notebooks/data_table.ipynb>data table notebook</a>'\n",
              "            + ' to learn more about interactive tables.';\n",
              "          element.innerHTML = '';\n",
              "          dataTable['output_type'] = 'display_data';\n",
              "          await google.colab.output.renderOutput(dataTable, element);\n",
              "          const docLink = document.createElement('div');\n",
              "          docLink.innerHTML = docLinkHtml;\n",
              "          element.appendChild(docLink);\n",
              "        }\n",
              "      </script>\n",
              "    </div>\n",
              "  </div>\n",
              "  "
            ]
          },
          "metadata": {},
          "execution_count": 35
        }
      ],
      "source": [
        "credit_worthiness_df.head()"
      ]
    },
    {
      "cell_type": "code",
      "execution_count": null,
      "metadata": {
        "pycharm": {
          "is_executing": true
        },
        "colab": {
          "base_uri": "https://localhost:8080/",
          "height": 999
        },
        "id": "FvXFGVlOmg07",
        "outputId": "f144df8b-28a5-48d3-d200-62a3a7c4f0d1"
      },
      "outputs": [
        {
          "output_type": "display_data",
          "data": {
            "text/plain": [
              "<Figure size 3000x2000 with 1 Axes>"
            ],
            "image/png": "[encoded data removed]"
          },
          "metadata": {
            "needs_background": "light"
          }
        }
      ],
      "source": [
        "plt.figure(figsize=(30, 20), dpi=100) \n",
        "_ = sns.heatmap(credit_worthiness_df.corr(), annot=True, annot_kws={\"fontsize\":12}, linecolor='white', \\\n",
        "            linewidth=1, fmt='.3f', cmap=\"viridis\", cbar=False)"
      ]
    },
    {
      "cell_type": "markdown",
      "metadata": {
        "id": "-bkZWGDQmg07"
      },
      "source": [
        "There doesn't appear to be a strong correlation between the credit worthiness field and the independent variable. Drop the credit worthiness column."
      ]
    },
    {
      "cell_type": "code",
      "execution_count": null,
      "metadata": {
        "pycharm": {
          "is_executing": true
        },
        "id": "h4JmOMfImg08"
      },
      "outputs": [],
      "source": [
        "dataset.drop(columns=['credit_worthiness'], inplace=True)"
      ]
    },
    {
      "cell_type": "markdown",
      "metadata": {
        "id": "8OPj62zcmg08"
      },
      "source": [
        "#### Line of Credit"
      ]
    },
    {
      "cell_type": "markdown",
      "metadata": {
        "id": "XvRI_9y_mg08"
      },
      "source": [
        "Rename 'open_credit' to 'line_of_credit'"
      ]
    },
    {
      "cell_type": "code",
      "execution_count": null,
      "metadata": {
        "pycharm": {
          "is_executing": true
        },
        "id": "ffaQUI0Hmg08"
      },
      "outputs": [],
      "source": [
        "dataset.rename(columns={'open_credit': 'line_of_credit'}, inplace=True)"
      ]
    },
    {
      "cell_type": "code",
      "execution_count": null,
      "metadata": {
        "pycharm": {
          "is_executing": true
        },
        "colab": {
          "base_uri": "https://localhost:8080/"
        },
        "id": "78Ch6o0hmg08",
        "outputId": "5c4ecf37-f433-4df1-a2ba-d3dee4331e01"
      },
      "outputs": [
        {
          "output_type": "execute_result",
          "data": {
            "text/plain": [
              "array(['nopc', 'opc'], dtype=object)"
            ]
          },
          "metadata": {},
          "execution_count": 39
        }
      ],
      "source": [
        "dataset['line_of_credit'].unique()"
      ]
    },
    {
      "cell_type": "markdown",
      "metadata": {
        "id": "Lux8ymGAmg08"
      },
      "source": [
        "Map nopc to 0 and opc to 1...cast to int64"
      ]
    },
    {
      "cell_type": "code",
      "execution_count": null,
      "metadata": {
        "pycharm": {
          "is_executing": true
        },
        "id": "GdGkwy3Lmg09"
      },
      "outputs": [],
      "source": [
        "dataset['line_of_credit'].replace({'nopc': 0, 'opc': 1}, inplace=True)"
      ]
    },
    {
      "cell_type": "markdown",
      "metadata": {
        "id": "LZYrXnYimg09"
      },
      "source": [
        "#### Commercial loan"
      ]
    },
    {
      "cell_type": "markdown",
      "metadata": {
        "id": "4bs_Jg8_mg09"
      },
      "source": [
        "Rename business_or_commercial to commercial_loan"
      ]
    },
    {
      "cell_type": "code",
      "execution_count": null,
      "metadata": {
        "pycharm": {
          "is_executing": true
        },
        "id": "dufQvWK1mg09"
      },
      "outputs": [],
      "source": [
        "dataset.rename(columns={'business_or_commercial': 'commercial_loan'}, inplace=True)"
      ]
    },
    {
      "cell_type": "code",
      "execution_count": null,
      "metadata": {
        "pycharm": {
          "is_executing": true
        },
        "colab": {
          "base_uri": "https://localhost:8080/"
        },
        "id": "Ko4Y0uJNmg09",
        "outputId": "2d1c305f-c350-4d62-9b68-a57c486fbf62"
      },
      "outputs": [
        {
          "output_type": "execute_result",
          "data": {
            "text/plain": [
              "array(['nob/c', 'b/c'], dtype=object)"
            ]
          },
          "metadata": {},
          "execution_count": 42
        }
      ],
      "source": [
        "dataset['commercial_loan'].unique()"
      ]
    },
    {
      "cell_type": "markdown",
      "metadata": {
        "id": "r2YnzYEJmg09"
      },
      "source": [
        "Convert nob/c to 0 and b/c to 1"
      ]
    },
    {
      "cell_type": "code",
      "execution_count": null,
      "metadata": {
        "pycharm": {
          "is_executing": true
        },
        "id": "JeHUOMZamg0-"
      },
      "outputs": [],
      "source": [
        "dataset['commercial_loan'].replace({'nob/c': 0, 'b/c': 1}, inplace=True)"
      ]
    },
    {
      "cell_type": "markdown",
      "metadata": {
        "id": "oFM1TsEWmg0-"
      },
      "source": [
        "#### Loan amount"
      ]
    },
    {
      "cell_type": "code",
      "execution_count": null,
      "metadata": {
        "pycharm": {
          "is_executing": true
        },
        "colab": {
          "base_uri": "https://localhost:8080/"
        },
        "id": "ITHPKvRJmg0-",
        "outputId": "a99276f6-2639-4c0d-f1be-2eab36c9f52b"
      },
      "outputs": [
        {
          "output_type": "execute_result",
          "data": {
            "text/plain": [
              "array([ 116500,  206500,  406500,  456500,  696500,  706500,  346500,\n",
              "        266500,  376500,  436500,  136500,  466500,  226500,   76500,\n",
              "        356500,  156500,  586500,  306500,  316500,  336500,  426500,\n",
              "        476500,  196500,  186500,  246500,  216500,  506500,  656500,\n",
              "        256500,  396500,  166500,  236500,  866500,  416500,  386500,\n",
              "        596500,  606500,   86500,  286500,  146500,  446500,  636500,\n",
              "        486500,  326500,   56500,  906500,  496500,  106500,  126500,\n",
              "        296500,  176500, 1376500,  566500,  686500,  556500,  676500,\n",
              "        366500,  276500,  716500,   66500,  616500,   96500,  826500,\n",
              "         26500,  666500,  546500,  986500,  526500, 1226500,  726500,\n",
              "       1486500, 1416500,  536500,  796500,  516500,   46500,  876500,\n",
              "        576500,  626500, 1506500,  886500,  816500,  646500,  776500,\n",
              "        746500,  736500,  896500,  836500,  806500, 1386500,  976500,\n",
              "        926500,  786500,  766500, 1176500, 2006500,  756500, 1136500,\n",
              "        966500, 1356500, 1056500, 1546500, 1186500,  996500, 1496500,\n",
              "        916500,  936500,   36500, 1456500, 1146500, 1276500, 1046500,\n",
              "       1156500, 1326500, 3006500, 1366500, 1006500, 1466500, 1126500,\n",
              "       1236500, 3576500, 1096500, 1166500, 1806500, 1406500,  846500,\n",
              "       1036500, 1026500, 1206500, 1016500, 2106500, 1396500, 1266500,\n",
              "       1606500,  946500, 1316500, 1676500, 1346500, 1076500,  956500,\n",
              "       1116500, 1716500, 1086500, 1216500, 1436500, 1106500, 2396500,\n",
              "       1246500, 1066500, 1256500, 1286500, 2476500, 1196500,  856500,\n",
              "       1446500, 1756500, 1306500, 1646500, 1786500, 1556500, 1586500,\n",
              "       1516500, 1746500, 1336500, 2206500, 2506500, 1686500, 1616500,\n",
              "       2606500, 1706500, 1726500, 1426500, 1476500, 2926500, 1626500,\n",
              "       2126500, 2056500, 1636500, 1926500, 1576500, 1776500, 1906500,\n",
              "       1296500, 1936500, 1896500, 2406500, 2706500, 2086500, 2146500,\n",
              "       2186500, 1656500, 1846500, 1566500, 1966500, 1916500, 3346500,\n",
              "       1886500, 1826500, 1696500, 2986500, 2596500, 1596500, 1836500,\n",
              "       2076500,   16500, 1526500, 2626500, 2226500, 2276500, 2256500,\n",
              "       1956500])"
            ]
          },
          "metadata": {},
          "execution_count": 44
        }
      ],
      "source": [
        "dataset['loan_amount'].unique()"
      ]
    },
    {
      "cell_type": "code",
      "execution_count": null,
      "metadata": {
        "pycharm": {
          "is_executing": true
        },
        "colab": {
          "base_uri": "https://localhost:8080/"
        },
        "id": "8u6HBMBFmg0-",
        "outputId": "a3b3ced6-5fff-41d7-a18c-ed8146096e66"
      },
      "outputs": [
        {
          "output_type": "execute_result",
          "data": {
            "text/plain": [
              "0"
            ]
          },
          "metadata": {},
          "execution_count": 45
        }
      ],
      "source": [
        "dataset['loan_amount'].isna().sum()"
      ]
    },
    {
      "cell_type": "markdown",
      "metadata": {
        "id": "9q8ZNZnomg0-"
      },
      "source": [
        "#### Interest rate"
      ]
    },
    {
      "cell_type": "code",
      "execution_count": null,
      "metadata": {
        "pycharm": {
          "is_executing": true
        },
        "colab": {
          "base_uri": "https://localhost:8080/"
        },
        "id": "z_kq4kbgmg0-",
        "outputId": "033faa37-bb01-495a-b914-7e850a000325"
      },
      "outputs": [
        {
          "output_type": "execute_result",
          "data": {
            "text/plain": [
              "array([  nan, 4.56 , 4.25 , 4.   , 3.99 , 4.5  , 4.125, 4.875, 3.49 ,\n",
              "       4.375, 3.625, 3.175, 2.99 , 4.99 , 5.25 , 3.75 , 3.375, 3.25 ,\n",
              "       2.75 , 3.875, 3.5  , 4.75 , 3.125, 5.19 , 4.49 , 2.875, 5.125,\n",
              "       4.625, 3.7  , 5.   , 3.   , 5.375, 4.18 , 3.69 , 5.5  , 3.65 ,\n",
              "       5.75 , 3.775, 3.56 , 5.625, 6.24 , 4.475, 3.4  , 2.925, 3.925,\n",
              "       5.74 , 5.875, 3.45 , 4.275, 2.975, 3.725, 2.85 , 3.675, 3.55 ,\n",
              "       3.93 , 2.375, 3.85 , 3.525, 2.725, 2.5  , 2.6  , 5.99 , 5.49 ,\n",
              "       8.   , 3.025, 3.8  , 2.775, 3.05 , 3.325, 6.   , 3.825, 3.15 ,\n",
              "       3.1  , 4.4  , 3.3  , 4.05 , 6.75 , 4.025, 3.475, 2.625, 3.225,\n",
              "       3.575, 4.175, 3.9  , 2.95 , 3.075, 3.275, 7.   , 3.425, 5.69 ,\n",
              "       5.3  , 3.2  , 3.6  , 2.65 , 3.35 , 7.75 , 4.225, 2.25 , 3.95 ,\n",
              "       4.7  , 2.125, 2.8  , 0.   , 4.2  , 3.975, 4.075, 2.675, 7.375,\n",
              "       4.44 , 4.865, 4.15 , 6.125, 4.1  , 6.375, 6.5  , 4.35 , 4.3  ,\n",
              "       6.25 , 2.475, 4.425, 4.525, 7.5  , 4.55 , 4.95 , 4.82 , 6.875,\n",
              "       4.325, 2.575, 2.9  , 3.74 , 7.125, 2.7  ])"
            ]
          },
          "metadata": {},
          "execution_count": 46
        }
      ],
      "source": [
        "dataset['rate_of_interest'].unique()"
      ]
    },
    {
      "cell_type": "code",
      "source": [
        "dataset[~dataset['rate_of_interest'].isna()].shape[0] - dataset[dataset['rate_of_interest'].isna()].shape[0]"
      ],
      "metadata": {
        "colab": {
          "base_uri": "https://localhost:8080/"
        },
        "id": "2dN_IQOYB28A",
        "outputId": "c5e0e820-7f86-4862-8f7f-9eba33eae1cd"
      },
      "execution_count": null,
      "outputs": [
        {
          "output_type": "execute_result",
          "data": {
            "text/plain": [
              "75792"
            ]
          },
          "metadata": {},
          "execution_count": 47
        }
      ]
    },
    {
      "cell_type": "markdown",
      "source": [
        "75,792 rows are missing an interest rate. This is too many to drop and the interest rate cannot be 0. Explore options for imputing the interest rate."
      ],
      "metadata": {
        "id": "6FaLBjHhCRZr"
      }
    },
    {
      "cell_type": "code",
      "source": [
        "print(dataset[(~dataset['rate_of_interest'].isna()) & (dataset['status'] == 0)][['rate_of_interest']].describe())\n",
        "print(dataset[(~dataset['rate_of_interest'].isna()) & (dataset['status'] == 1)][['rate_of_interest']].describe())"
      ],
      "metadata": {
        "colab": {
          "base_uri": "https://localhost:8080/"
        },
        "id": "ceUj0tBZDj5k",
        "outputId": "59298ff2-79ac-406c-f510-2723112586ca"
      },
      "execution_count": null,
      "outputs": [
        {
          "output_type": "stream",
          "name": "stdout",
          "text": [
            "       rate_of_interest\n",
            "count     112031.000000\n",
            "mean           4.044931\n",
            "std            0.561356\n",
            "min            0.000000\n",
            "25%            3.625000\n",
            "50%            3.990000\n",
            "75%            4.375000\n",
            "max            8.000000\n",
            "       rate_of_interest\n",
            "count        200.000000\n",
            "mean           4.350500\n",
            "std            0.495546\n",
            "min            3.125000\n",
            "25%            3.990000\n",
            "50%            4.312500\n",
            "75%            4.750000\n",
            "max            5.500000\n"
          ]
        }
      ]
    },
    {
      "cell_type": "markdown",
      "source": [
        "Interest rate is continous so replace with the median values of each status"
      ],
      "metadata": {
        "id": "ZhCMvh1SFFZz"
      }
    },
    {
      "cell_type": "code",
      "source": [
        "status0_median = dataset[(dataset['status'] == 0) & (~dataset['rate_of_interest'].isna())]['rate_of_interest'].median()\n",
        "\n",
        "dataset.loc[(dataset['status'] == 0) & (dataset['rate_of_interest'].isna()), 'rate_of_interest'] = status0_median"
      ],
      "metadata": {
        "id": "WL_8BleSGOyC"
      },
      "execution_count": null,
      "outputs": []
    },
    {
      "cell_type": "code",
      "source": [
        "status1_median = dataset[(dataset['status'] == 1) & (~dataset['rate_of_interest'].isna())]['rate_of_interest'].median()\n",
        "\n",
        "dataset.loc[(dataset['status'] == 1) & (dataset['rate_of_interest'].isna()), 'rate_of_interest'] = status1_median"
      ],
      "metadata": {
        "id": "TJLtm8WsFwPZ"
      },
      "execution_count": null,
      "outputs": []
    },
    {
      "cell_type": "code",
      "execution_count": null,
      "metadata": {
        "pycharm": {
          "is_executing": true
        },
        "id": "PYtfCYB8mg1A",
        "colab": {
          "base_uri": "https://localhost:8080/"
        },
        "outputId": "4fb70c56-a6e7-4bf4-ccaf-61a6966bcd0d"
      },
      "outputs": [
        {
          "output_type": "execute_result",
          "data": {
            "text/plain": [
              "0"
            ]
          },
          "metadata": {},
          "execution_count": 51
        }
      ],
      "source": [
        "dataset['rate_of_interest'].isna().sum()"
      ]
    },
    {
      "cell_type": "code",
      "execution_count": null,
      "metadata": {
        "pycharm": {
          "is_executing": true
        },
        "colab": {
          "base_uri": "https://localhost:8080/"
        },
        "id": "R_KnlR6Zmg1A",
        "outputId": "b295d93c-0f73-49ac-80b8-d9a3d8b4484d"
      },
      "outputs": [
        {
          "output_type": "execute_result",
          "data": {
            "text/plain": [
              "array([4.3125, 4.56  , 4.25  , 4.    , 3.99  , 4.5   , 4.125 , 4.875 ,\n",
              "       3.49  , 4.375 , 3.625 , 3.175 , 2.99  , 4.99  , 5.25  , 3.75  ,\n",
              "       3.375 , 3.25  , 2.75  , 3.875 , 3.5   , 4.75  , 3.125 , 5.19  ,\n",
              "       4.49  , 2.875 , 5.125 , 4.625 , 3.7   , 5.    , 3.    , 5.375 ,\n",
              "       4.18  , 3.69  , 5.5   , 3.65  , 5.75  , 3.775 , 3.56  , 5.625 ,\n",
              "       6.24  , 4.475 , 3.4   , 2.925 , 3.925 , 5.74  , 5.875 , 3.45  ,\n",
              "       4.275 , 2.975 , 3.725 , 2.85  , 3.675 , 3.55  , 3.93  , 2.375 ,\n",
              "       3.85  , 3.525 , 2.725 , 2.5   , 2.6   , 5.99  , 5.49  , 8.    ,\n",
              "       3.025 , 3.8   , 2.775 , 3.05  , 3.325 , 6.    , 3.825 , 3.15  ,\n",
              "       3.1   , 4.4   , 3.3   , 4.05  , 6.75  , 4.025 , 3.475 , 2.625 ,\n",
              "       3.225 , 3.575 , 4.175 , 3.9   , 2.95  , 3.075 , 3.275 , 7.    ,\n",
              "       3.425 , 5.69  , 5.3   , 3.2   , 3.6   , 2.65  , 3.35  , 7.75  ,\n",
              "       4.225 , 2.25  , 3.95  , 4.7   , 2.125 , 2.8   , 0.    , 4.2   ,\n",
              "       3.975 , 4.075 , 2.675 , 7.375 , 4.44  , 4.865 , 4.15  , 6.125 ,\n",
              "       4.1   , 6.375 , 6.5   , 4.35  , 4.3   , 6.25  , 2.475 , 4.425 ,\n",
              "       4.525 , 7.5   , 4.55  , 4.95  , 4.82  , 6.875 , 4.325 , 2.575 ,\n",
              "       2.9   , 3.74  , 7.125 , 2.7   ])"
            ]
          },
          "metadata": {},
          "execution_count": 52
        }
      ],
      "source": [
        "dataset['rate_of_interest'].unique()"
      ]
    },
    {
      "cell_type": "markdown",
      "metadata": {
        "id": "bnbmdLqhmg1A"
      },
      "source": [
        "Rename rate_of_interest to interest_rate"
      ]
    },
    {
      "cell_type": "code",
      "execution_count": null,
      "metadata": {
        "pycharm": {
          "is_executing": true
        },
        "id": "ssGTyamRmg1B"
      },
      "outputs": [],
      "source": [
        "dataset.rename(columns={'rate_of_interest': 'interest_rate'}, inplace=True)"
      ]
    },
    {
      "cell_type": "markdown",
      "metadata": {
        "id": "Iv-qRn1ymg1B"
      },
      "source": [
        "#### Interest rate spread"
      ]
    },
    {
      "cell_type": "markdown",
      "metadata": {
        "id": "ncZUuWZ0mg1B"
      },
      "source": [
        "Impute NaNs to 0.0"
      ]
    },
    {
      "cell_type": "code",
      "execution_count": null,
      "metadata": {
        "pycharm": {
          "is_executing": true
        },
        "id": "R8mwhvyimg1B"
      },
      "outputs": [],
      "source": [
        "dataset['interest_rate_spread'].fillna(0.0, inplace=True)"
      ]
    },
    {
      "cell_type": "markdown",
      "metadata": {
        "id": "7tNecWdnmg1B"
      },
      "source": [
        "#### Upfront charges"
      ]
    },
    {
      "cell_type": "code",
      "execution_count": null,
      "metadata": {
        "pycharm": {
          "is_executing": true
        },
        "colab": {
          "base_uri": "https://localhost:8080/"
        },
        "id": "SVCRV86img1B",
        "outputId": "8dfe6fb7-4c27-424e-c220-7072fc005952"
      },
      "outputs": [
        {
          "output_type": "execute_result",
          "data": {
            "text/plain": [
              "array([    nan,  595.  ,    0.  , ..., 3113.06, 1226.64, 4323.33])"
            ]
          },
          "metadata": {},
          "execution_count": 55
        }
      ],
      "source": [
        "dataset['upfront_charges'].unique()"
      ]
    },
    {
      "cell_type": "markdown",
      "metadata": {
        "id": "ysOBVhiKmg1B"
      },
      "source": [
        "Impute NaNs to 0.0"
      ]
    },
    {
      "cell_type": "code",
      "execution_count": null,
      "metadata": {
        "pycharm": {
          "is_executing": true
        },
        "id": "hdn7nWPGmg1B"
      },
      "outputs": [],
      "source": [
        "dataset['upfront_charges'].fillna(0.0, inplace=True)"
      ]
    },
    {
      "cell_type": "code",
      "execution_count": null,
      "metadata": {
        "pycharm": {
          "is_executing": true
        },
        "colab": {
          "base_uri": "https://localhost:8080/"
        },
        "id": "eOkmNFS9mg1C",
        "outputId": "dfe3672d-562c-446e-f3bc-ea89f9b20325"
      },
      "outputs": [
        {
          "output_type": "execute_result",
          "data": {
            "text/plain": [
              "array([   0.  ,  595.  ,  370.  , ..., 3113.06, 1226.64, 4323.33])"
            ]
          },
          "metadata": {},
          "execution_count": 57
        }
      ],
      "source": [
        "dataset['upfront_charges'].unique()"
      ]
    },
    {
      "cell_type": "markdown",
      "metadata": {
        "id": "jboqI-8hmg1C"
      },
      "source": [
        "#### Term"
      ]
    },
    {
      "cell_type": "code",
      "execution_count": null,
      "metadata": {
        "pycharm": {
          "is_executing": true
        },
        "colab": {
          "base_uri": "https://localhost:8080/"
        },
        "id": "az-po_V8mg1C",
        "outputId": "915baf48-313d-4aec-ec70-3e8e62f2d2fb"
      },
      "outputs": [
        {
          "output_type": "execute_result",
          "data": {
            "text/plain": [
              "array([360., 300., 180., 312., 144., 240., 348., 324., 120.,  96., 192.,\n",
              "       156., 228., 336., 288., 108., 276.,  nan, 132., 216., 168., 204.,\n",
              "       264., 252., 165., 280., 322.])"
            ]
          },
          "metadata": {},
          "execution_count": 58
        }
      ],
      "source": [
        "dataset['term'].unique()"
      ]
    },
    {
      "cell_type": "markdown",
      "metadata": {
        "id": "G20IxTbVmg1C"
      },
      "source": [
        "Imput NaNs to 0. Conver to int64"
      ]
    },
    {
      "cell_type": "code",
      "execution_count": null,
      "metadata": {
        "pycharm": {
          "is_executing": true
        },
        "id": "1Dzqb2XYmg1C"
      },
      "outputs": [],
      "source": [
        "dataset['term'] = dataset['term'].fillna(0).astype(np.int64)"
      ]
    },
    {
      "cell_type": "code",
      "execution_count": null,
      "metadata": {
        "pycharm": {
          "is_executing": true
        },
        "colab": {
          "base_uri": "https://localhost:8080/"
        },
        "id": "AUd5b4QOmg1C",
        "outputId": "2f69bc81-be1a-43e1-8fc6-8ddb866b6f72"
      },
      "outputs": [
        {
          "output_type": "execute_result",
          "data": {
            "text/plain": [
              "array([360, 300, 180, 312, 144, 240, 348, 324, 120,  96, 192, 156, 228,\n",
              "       336, 288, 108, 276,   0, 132, 216, 168, 204, 264, 252, 165, 280,\n",
              "       322])"
            ]
          },
          "metadata": {},
          "execution_count": 60
        }
      ],
      "source": [
        "dataset['term'].unique()"
      ]
    },
    {
      "cell_type": "markdown",
      "metadata": {
        "id": "4MdvFSNAmg1D"
      },
      "source": [
        "#### Negative ammortization"
      ]
    },
    {
      "cell_type": "code",
      "execution_count": null,
      "metadata": {
        "pycharm": {
          "is_executing": true
        },
        "colab": {
          "base_uri": "https://localhost:8080/"
        },
        "id": "svP6jNQrmg1D",
        "outputId": "c3cabf8c-fcdb-4cf5-c854-41b3b1551d34"
      },
      "outputs": [
        {
          "output_type": "execute_result",
          "data": {
            "text/plain": [
              "array(['not_neg', 'neg_amm', nan], dtype=object)"
            ]
          },
          "metadata": {},
          "execution_count": 61
        }
      ],
      "source": [
        "dataset['neg_ammortization'].unique()"
      ]
    },
    {
      "cell_type": "markdown",
      "metadata": {
        "id": "uVQmtYuFmg1D"
      },
      "source": [
        "Imput NaNs to 0s, convert not_neg to 0 and neg_amm to 1. Rename column to negative_ammortization"
      ]
    },
    {
      "cell_type": "code",
      "execution_count": null,
      "metadata": {
        "pycharm": {
          "is_executing": true
        },
        "id": "Yf3dxllAmg1D"
      },
      "outputs": [],
      "source": [
        "dataset['neg_ammortization'].fillna(0, inplace=True)"
      ]
    },
    {
      "cell_type": "code",
      "execution_count": null,
      "metadata": {
        "pycharm": {
          "is_executing": true
        },
        "id": "Yzdr8Enwmg1D"
      },
      "outputs": [],
      "source": [
        "dataset['neg_ammortization'].replace({'not_neg': 0, 'neg_amm': 1}, inplace=True)"
      ]
    },
    {
      "cell_type": "code",
      "execution_count": null,
      "metadata": {
        "pycharm": {
          "is_executing": true
        },
        "id": "wr7hcxN_mg1D"
      },
      "outputs": [],
      "source": [
        "dataset.rename(columns={'neg_ammortization': 'negative_ammortization'}, inplace=True)"
      ]
    },
    {
      "cell_type": "code",
      "execution_count": null,
      "metadata": {
        "pycharm": {
          "is_executing": true
        },
        "colab": {
          "base_uri": "https://localhost:8080/"
        },
        "id": "apgs0Az6mg1D",
        "outputId": "7636d621-578a-4362-ad17-89693a9bc544"
      },
      "outputs": [
        {
          "output_type": "execute_result",
          "data": {
            "text/plain": [
              "array([0, 1])"
            ]
          },
          "metadata": {},
          "execution_count": 65
        }
      ],
      "source": [
        "dataset['negative_ammortization'].unique()"
      ]
    },
    {
      "cell_type": "markdown",
      "metadata": {
        "id": "ywlyGk6qmg1E"
      },
      "source": [
        "#### Interest only"
      ]
    },
    {
      "cell_type": "code",
      "execution_count": null,
      "metadata": {
        "pycharm": {
          "is_executing": true
        },
        "colab": {
          "base_uri": "https://localhost:8080/"
        },
        "id": "dtHarH0rmg1E",
        "outputId": "fea649f6-4eb2-4ca9-cb07-08b4a1c12a0d"
      },
      "outputs": [
        {
          "output_type": "execute_result",
          "data": {
            "text/plain": [
              "array(['not_int', 'int_only'], dtype=object)"
            ]
          },
          "metadata": {},
          "execution_count": 66
        }
      ],
      "source": [
        "dataset['interest_only'].unique()"
      ]
    },
    {
      "cell_type": "markdown",
      "metadata": {
        "id": "BIakMrBvmg1E"
      },
      "source": [
        "Convert not_int to 0, int_only to 1"
      ]
    },
    {
      "cell_type": "code",
      "execution_count": null,
      "metadata": {
        "pycharm": {
          "is_executing": true
        },
        "id": "T_-Fl4urmg1E"
      },
      "outputs": [],
      "source": [
        "dataset['interest_only'].replace({'not_int': 0, 'int_only': 1}, inplace=True)"
      ]
    },
    {
      "cell_type": "code",
      "execution_count": null,
      "metadata": {
        "pycharm": {
          "is_executing": true
        },
        "colab": {
          "base_uri": "https://localhost:8080/"
        },
        "id": "rTmdeB3Bmg1E",
        "outputId": "226c6256-3ee2-4356-85f2-c015c7b1f409"
      },
      "outputs": [
        {
          "output_type": "execute_result",
          "data": {
            "text/plain": [
              "array([0, 1])"
            ]
          },
          "metadata": {},
          "execution_count": 68
        }
      ],
      "source": [
        "dataset['interest_only'].unique()"
      ]
    },
    {
      "cell_type": "markdown",
      "metadata": {
        "id": "6nxaG-n2mg1E"
      },
      "source": [
        "#### Lump sum payment"
      ]
    },
    {
      "cell_type": "code",
      "execution_count": null,
      "metadata": {
        "pycharm": {
          "is_executing": true
        },
        "colab": {
          "base_uri": "https://localhost:8080/"
        },
        "id": "BFhkets3mg1E",
        "outputId": "a241ff4b-f185-4f14-cc24-8c18774bbc38"
      },
      "outputs": [
        {
          "output_type": "execute_result",
          "data": {
            "text/plain": [
              "array(['not_lpsm', 'lpsm'], dtype=object)"
            ]
          },
          "metadata": {},
          "execution_count": 69
        }
      ],
      "source": [
        "dataset['lump_sum_payment'].unique()"
      ]
    },
    {
      "cell_type": "markdown",
      "metadata": {
        "id": "UTXAMnM4mg1F"
      },
      "source": [
        "Convert not_lpsm to 0, lpsm to 1"
      ]
    },
    {
      "cell_type": "code",
      "execution_count": null,
      "metadata": {
        "pycharm": {
          "is_executing": true
        },
        "id": "x7FmOAw2mg1F"
      },
      "outputs": [],
      "source": [
        "dataset['lump_sum_payment'].replace({'not_lpsm': 0, 'lpsm': 1}, inplace=True)"
      ]
    },
    {
      "cell_type": "code",
      "execution_count": null,
      "metadata": {
        "pycharm": {
          "is_executing": true
        },
        "colab": {
          "base_uri": "https://localhost:8080/"
        },
        "id": "MjgEuWBqmg1F",
        "outputId": "bb1477de-2100-4ce4-9742-98fb42e4b5ac"
      },
      "outputs": [
        {
          "output_type": "execute_result",
          "data": {
            "text/plain": [
              "array([0, 1])"
            ]
          },
          "metadata": {},
          "execution_count": 71
        }
      ],
      "source": [
        "dataset['lump_sum_payment'].unique()"
      ]
    },
    {
      "cell_type": "markdown",
      "metadata": {
        "id": "LPbUgV3fmg1F"
      },
      "source": [
        "#### Property value"
      ]
    },
    {
      "cell_type": "code",
      "execution_count": null,
      "metadata": {
        "pycharm": {
          "is_executing": true
        },
        "colab": {
          "base_uri": "https://localhost:8080/"
        },
        "id": "-6YJ4rVEmg1F",
        "outputId": "3a54781c-c41b-4e09-be86-5c06de19d2d6"
      },
      "outputs": [
        {
          "output_type": "execute_result",
          "data": {
            "text/plain": [
              "15098"
            ]
          },
          "metadata": {},
          "execution_count": 72
        }
      ],
      "source": [
        "dataset['property_value'].isna().sum()"
      ]
    },
    {
      "cell_type": "markdown",
      "metadata": {
        "id": "aWb49yQsmg1F"
      },
      "source": [
        "Impute NaNs to 0.0"
      ]
    },
    {
      "cell_type": "code",
      "execution_count": null,
      "metadata": {
        "pycharm": {
          "is_executing": true
        },
        "id": "zoGatFJbmg1G"
      },
      "outputs": [],
      "source": [
        "dataset['property_value'].fillna(0.0, inplace=True)"
      ]
    },
    {
      "cell_type": "code",
      "execution_count": null,
      "metadata": {
        "pycharm": {
          "is_executing": true
        },
        "colab": {
          "base_uri": "https://localhost:8080/"
        },
        "id": "KUTILErtmg1G",
        "outputId": "0f241e0f-f71f-4800-af4c-0e8bd7a71f92"
      },
      "outputs": [
        {
          "output_type": "execute_result",
          "data": {
            "text/plain": [
              "0"
            ]
          },
          "metadata": {},
          "execution_count": 74
        }
      ],
      "source": [
        "dataset['property_value'].isna().sum()"
      ]
    },
    {
      "cell_type": "markdown",
      "metadata": {
        "id": "CQaG-Zv3mg1G"
      },
      "source": [
        "#### Construction type"
      ]
    },
    {
      "cell_type": "code",
      "execution_count": null,
      "metadata": {
        "pycharm": {
          "is_executing": true
        },
        "colab": {
          "base_uri": "https://localhost:8080/"
        },
        "id": "CggA69c9mg1G",
        "outputId": "76ddd3aa-6c97-4c5e-ad99-5c412a2a5495"
      },
      "outputs": [
        {
          "output_type": "execute_result",
          "data": {
            "text/plain": [
              "array(['sb', 'mh'], dtype=object)"
            ]
          },
          "metadata": {},
          "execution_count": 75
        }
      ],
      "source": [
        "dataset['construction_type'].unique()"
      ]
    },
    {
      "cell_type": "markdown",
      "metadata": {
        "id": "17fk8D89mg1G"
      },
      "source": [
        "Convert single borrower to 1, multi-home to 2...impute NaNs to 0"
      ]
    },
    {
      "cell_type": "code",
      "execution_count": null,
      "metadata": {
        "pycharm": {
          "is_executing": true
        },
        "id": "pOxV9EInmg1G"
      },
      "outputs": [],
      "source": [
        "dataset['construction_type'].fillna(0, inplace=True)"
      ]
    },
    {
      "cell_type": "code",
      "execution_count": null,
      "metadata": {
        "pycharm": {
          "is_executing": true
        },
        "id": "89P1gdoEmg1H"
      },
      "outputs": [],
      "source": [
        "dataset['construction_type'].replace({'sb': 1, 'mh': 2}, inplace=True)"
      ]
    },
    {
      "cell_type": "code",
      "execution_count": null,
      "metadata": {
        "pycharm": {
          "is_executing": true
        },
        "colab": {
          "base_uri": "https://localhost:8080/"
        },
        "id": "QyMNxNvymg1H",
        "outputId": "a075a1a0-c149-4af4-c353-4a612d146c64"
      },
      "outputs": [
        {
          "output_type": "execute_result",
          "data": {
            "text/plain": [
              "array([1, 2])"
            ]
          },
          "metadata": {},
          "execution_count": 78
        }
      ],
      "source": [
        "dataset['construction_type'].unique()"
      ]
    },
    {
      "cell_type": "markdown",
      "metadata": {
        "id": "m-nKYPZImg1H"
      },
      "source": [
        "#### Occupancy type"
      ]
    },
    {
      "cell_type": "code",
      "execution_count": null,
      "metadata": {
        "pycharm": {
          "is_executing": true
        },
        "colab": {
          "base_uri": "https://localhost:8080/"
        },
        "id": "FxWjmdSumg1H",
        "outputId": "d61e31db-611b-4180-faac-562517f18ac1"
      },
      "outputs": [
        {
          "output_type": "execute_result",
          "data": {
            "text/plain": [
              "array(['pr', 'sr', 'ir'], dtype=object)"
            ]
          },
          "metadata": {},
          "execution_count": 79
        }
      ],
      "source": [
        "dataset['occupancy_type'].unique()"
      ]
    },
    {
      "cell_type": "markdown",
      "metadata": {
        "id": "FmynRL5emg1H"
      },
      "source": [
        "Convert primary residence (pr) to 1, secondary residence (sr) to 2, investment property (ir) to 3...impute NaNs to 0"
      ]
    },
    {
      "cell_type": "code",
      "execution_count": null,
      "metadata": {
        "pycharm": {
          "is_executing": true
        },
        "id": "ODRHsQ4Vmg1H"
      },
      "outputs": [],
      "source": [
        "dataset['occupancy_type'].fillna(0, inplace=True)"
      ]
    },
    {
      "cell_type": "code",
      "execution_count": null,
      "metadata": {
        "pycharm": {
          "is_executing": true
        },
        "id": "535fv13Omg1H"
      },
      "outputs": [],
      "source": [
        "dataset['occupancy_type'].replace({'pr': 1, 'sr': 2, 'ir': 3}, inplace=True)"
      ]
    },
    {
      "cell_type": "code",
      "execution_count": null,
      "metadata": {
        "pycharm": {
          "is_executing": true
        },
        "colab": {
          "base_uri": "https://localhost:8080/"
        },
        "id": "9nVPt9xAmg1I",
        "outputId": "6a221c58-1964-4807-d8b1-9e123c0ef10b"
      },
      "outputs": [
        {
          "output_type": "execute_result",
          "data": {
            "text/plain": [
              "array([1, 2, 3])"
            ]
          },
          "metadata": {},
          "execution_count": 82
        }
      ],
      "source": [
        "dataset['occupancy_type'].unique()"
      ]
    },
    {
      "cell_type": "markdown",
      "metadata": {
        "id": "gc3cm4TTmg1I"
      },
      "source": [
        "#### Property type"
      ]
    },
    {
      "cell_type": "markdown",
      "metadata": {
        "id": "jqN31BL8mg1I"
      },
      "source": [
        "Rename secured_by to property_type"
      ]
    },
    {
      "cell_type": "code",
      "execution_count": null,
      "metadata": {
        "pycharm": {
          "is_executing": true
        },
        "id": "SrSeFsykmg1I"
      },
      "outputs": [],
      "source": [
        "dataset.rename(columns={'secured_by': 'property_type'}, inplace=True)"
      ]
    },
    {
      "cell_type": "code",
      "execution_count": null,
      "metadata": {
        "pycharm": {
          "is_executing": true
        },
        "colab": {
          "base_uri": "https://localhost:8080/"
        },
        "id": "uRKQSMAQmg1I",
        "outputId": "d9d7ddca-c923-4eab-a790-612ec4375903"
      },
      "outputs": [
        {
          "output_type": "execute_result",
          "data": {
            "text/plain": [
              "array(['home', 'land'], dtype=object)"
            ]
          },
          "metadata": {},
          "execution_count": 84
        }
      ],
      "source": [
        "dataset['property_type'].unique()"
      ]
    },
    {
      "cell_type": "markdown",
      "metadata": {
        "id": "2nV3Dt2Ymg1I"
      },
      "source": [
        "Convert home to 1, land to 2...impute NaNs to 0"
      ]
    },
    {
      "cell_type": "code",
      "execution_count": null,
      "metadata": {
        "pycharm": {
          "is_executing": true
        },
        "id": "GZ4-L0KSmg1J"
      },
      "outputs": [],
      "source": [
        "dataset['property_type'].replace({'home': 1, 'land': 2}, inplace=True)"
      ]
    },
    {
      "cell_type": "code",
      "execution_count": null,
      "metadata": {
        "pycharm": {
          "is_executing": true
        },
        "id": "YWMZFxbUmg1J"
      },
      "outputs": [],
      "source": [
        "dataset['property_type'].fillna(0, inplace=True)"
      ]
    },
    {
      "cell_type": "code",
      "execution_count": null,
      "metadata": {
        "pycharm": {
          "is_executing": true
        },
        "colab": {
          "base_uri": "https://localhost:8080/"
        },
        "id": "WCld3xHqmg1J",
        "outputId": "ac43295b-2eb0-457c-f0c8-55ec10856400"
      },
      "outputs": [
        {
          "output_type": "execute_result",
          "data": {
            "text/plain": [
              "array([1, 2])"
            ]
          },
          "metadata": {},
          "execution_count": 87
        }
      ],
      "source": [
        "dataset['property_type'].unique()"
      ]
    },
    {
      "cell_type": "markdown",
      "metadata": {
        "id": "7oc7dolLmg1J"
      },
      "source": [
        "#### Units"
      ]
    },
    {
      "cell_type": "markdown",
      "metadata": {
        "id": "yUcoNY_Omg1J"
      },
      "source": [
        "Rename total_units to units"
      ]
    },
    {
      "cell_type": "code",
      "execution_count": null,
      "metadata": {
        "pycharm": {
          "is_executing": true
        },
        "id": "EpH_oQsjmg1K"
      },
      "outputs": [],
      "source": [
        "dataset.rename(columns={'total_units': 'units'}, inplace=True)"
      ]
    },
    {
      "cell_type": "code",
      "execution_count": null,
      "metadata": {
        "pycharm": {
          "is_executing": true
        },
        "colab": {
          "base_uri": "https://localhost:8080/"
        },
        "id": "jnc0gAGHmg1K",
        "outputId": "086fe427-2684-4197-ede3-78aa75076475"
      },
      "outputs": [
        {
          "output_type": "execute_result",
          "data": {
            "text/plain": [
              "array(['1U', '2U', '3U', '4U'], dtype=object)"
            ]
          },
          "metadata": {},
          "execution_count": 89
        }
      ],
      "source": [
        "dataset['units'].unique()"
      ]
    },
    {
      "cell_type": "code",
      "source": [
        "dataset['units'].fillna('0', inplace=True)"
      ],
      "metadata": {
        "id": "beVprtY9iMz3"
      },
      "execution_count": null,
      "outputs": []
    },
    {
      "cell_type": "markdown",
      "metadata": {
        "id": "mkbxe7Kdmg1K"
      },
      "source": [
        "Remove the 'U' suffix, convert to int64...impute NaNs to 0"
      ]
    },
    {
      "cell_type": "code",
      "execution_count": null,
      "metadata": {
        "pycharm": {
          "is_executing": true
        },
        "id": "v03AEsCCmg1K"
      },
      "outputs": [],
      "source": [
        "dataset['units'] = dataset['units'].str.replace('U', '').astype(np.int64)"
      ]
    },
    {
      "cell_type": "code",
      "execution_count": null,
      "metadata": {
        "pycharm": {
          "is_executing": true
        },
        "colab": {
          "base_uri": "https://localhost:8080/"
        },
        "id": "Bsmqdbx8mg1K",
        "outputId": "5e4ab327-809e-4977-e7b8-84a1a626e647"
      },
      "outputs": [
        {
          "output_type": "execute_result",
          "data": {
            "text/plain": [
              "array([1, 2, 3, 4])"
            ]
          },
          "metadata": {},
          "execution_count": 92
        }
      ],
      "source": [
        "dataset['units'].unique()"
      ]
    },
    {
      "cell_type": "markdown",
      "metadata": {
        "id": "OPih6ecumg1K"
      },
      "source": [
        "#### Income"
      ]
    },
    {
      "cell_type": "code",
      "execution_count": null,
      "metadata": {
        "pycharm": {
          "is_executing": true
        },
        "colab": {
          "base_uri": "https://localhost:8080/"
        },
        "id": "QCkJDQkSmg1L",
        "outputId": "95abdf21-441f-44b3-e2a2-b238681ae482"
      },
      "outputs": [
        {
          "output_type": "execute_result",
          "data": {
            "text/plain": [
              "9150"
            ]
          },
          "metadata": {},
          "execution_count": 93
        }
      ],
      "source": [
        "dataset['income'].isna().sum()"
      ]
    },
    {
      "cell_type": "markdown",
      "metadata": {
        "id": "1wCV9R0smg1L"
      },
      "source": [
        "Impute NaNs to 0.0"
      ]
    },
    {
      "cell_type": "code",
      "execution_count": null,
      "metadata": {
        "pycharm": {
          "is_executing": true
        },
        "id": "n59ethDvmg1L"
      },
      "outputs": [],
      "source": [
        "dataset['income'].fillna(0.0, inplace=True)"
      ]
    },
    {
      "cell_type": "code",
      "execution_count": null,
      "metadata": {
        "pycharm": {
          "is_executing": true
        },
        "colab": {
          "base_uri": "https://localhost:8080/"
        },
        "id": "nlFqTSlxmg1L",
        "outputId": "17017979-77d9-4ed9-8a9a-4d187fe7af8c"
      },
      "outputs": [
        {
          "output_type": "execute_result",
          "data": {
            "text/plain": [
              "0"
            ]
          },
          "metadata": {},
          "execution_count": 95
        }
      ],
      "source": [
        "dataset['income'].isna().sum()"
      ]
    },
    {
      "cell_type": "markdown",
      "metadata": {
        "id": "5vwKVpbvmg1L"
      },
      "source": [
        "#### Credit type"
      ]
    },
    {
      "cell_type": "code",
      "execution_count": null,
      "metadata": {
        "pycharm": {
          "is_executing": true
        },
        "colab": {
          "base_uri": "https://localhost:8080/"
        },
        "id": "_G_Mh9Qemg1L",
        "outputId": "55ad80b2-ef64-4f23-d106-fce81088021b"
      },
      "outputs": [
        {
          "output_type": "execute_result",
          "data": {
            "text/plain": [
              "array(['EXP', 'EQUI', 'CRIF', 'CIB'], dtype=object)"
            ]
          },
          "metadata": {},
          "execution_count": 96
        }
      ],
      "source": [
        "dataset['credit_type'].unique()"
      ]
    },
    {
      "cell_type": "markdown",
      "metadata": {
        "id": "zgsZMJKRmg1M"
      },
      "source": [
        "Convert EXP to 1, EQUI to 2, TRANS to 3, CRIF and CIB to 4...impute NaNs to 0"
      ]
    },
    {
      "cell_type": "code",
      "execution_count": null,
      "metadata": {
        "pycharm": {
          "is_executing": true
        },
        "id": "XyDgoH9Jmg1M"
      },
      "outputs": [],
      "source": [
        "dataset['credit_type'].replace({'EXP': 1, 'EQUI': 2, 'TRANS': 3, 'CIB': 4, 'CRIF': 4}, inplace=True)"
      ]
    },
    {
      "cell_type": "code",
      "execution_count": null,
      "metadata": {
        "pycharm": {
          "is_executing": true
        },
        "id": "50qjotivmg1M"
      },
      "outputs": [],
      "source": [
        "dataset['credit_type'].fillna(0, inplace=True)"
      ]
    },
    {
      "cell_type": "code",
      "execution_count": null,
      "metadata": {
        "pycharm": {
          "is_executing": true
        },
        "colab": {
          "base_uri": "https://localhost:8080/"
        },
        "id": "E6QP89Zumg1M",
        "outputId": "8c1b7804-9b12-4566-de2b-50d168f573ec"
      },
      "outputs": [
        {
          "output_type": "execute_result",
          "data": {
            "text/plain": [
              "array([1, 2, 4])"
            ]
          },
          "metadata": {},
          "execution_count": 99
        }
      ],
      "source": [
        "dataset['credit_type'].unique()"
      ]
    },
    {
      "cell_type": "markdown",
      "metadata": {
        "id": "zeUG1uPtmg1M"
      },
      "source": [
        "#### Credit score"
      ]
    },
    {
      "cell_type": "code",
      "execution_count": null,
      "metadata": {
        "colab": {
          "base_uri": "https://localhost:8080/"
        },
        "id": "P9N1ucfTmg1M",
        "outputId": "6cfe4210-daf3-49af-895e-a8aefa93b947"
      },
      "outputs": [
        {
          "output_type": "execute_result",
          "data": {
            "text/plain": [
              "array([758, 552, 834, 587, 602, 864, 860, 863, 580, 788, 723, 501, 884,\n",
              "       520, 773, 685, 846, 534, 629, 688, 668, 692, 620, 533, 518, 812,\n",
              "       647, 683, 705, 701, 591, 889, 651, 716, 780, 799, 766, 868, 765,\n",
              "       673, 876, 886, 772, 640, 798, 858, 543, 555, 603, 808, 519, 786,\n",
              "       769, 556, 567, 632, 818, 584, 750, 838, 741, 820, 665, 783, 663,\n",
              "       612, 739, 571, 870, 793, 804, 801, 711, 634, 764, 865, 593, 511,\n",
              "       677, 774, 638, 644, 732, 586, 642, 872, 898, 734, 639, 506, 664,\n",
              "       670, 577, 857, 653, 595, 787, 560, 613, 514, 867, 717, 619, 600,\n",
              "       524, 883, 503, 887, 604, 648, 797, 806, 845, 815, 585, 729, 538,\n",
              "       791, 671, 572, 755, 760, 578, 836, 900, 777, 667, 880, 568, 805,\n",
              "       590, 892, 540, 869, 737, 831, 608, 803, 795, 674, 781, 545, 796,\n",
              "       660, 850, 851, 794, 866, 611, 621, 862, 829, 848, 775, 733, 700,\n",
              "       633, 702, 882, 686, 652, 844, 649, 557, 761, 569, 523, 740, 690,\n",
              "       616, 782, 601, 809, 855, 768, 627, 854, 762, 746, 592, 703, 697,\n",
              "       710, 522, 789, 693, 597, 680, 575, 694, 581, 678, 714, 871, 800,\n",
              "       853, 718, 713, 874, 625, 626, 500, 695, 517, 759, 792, 822, 516,\n",
              "       704, 605, 539, 598, 763, 515, 508, 529, 830, 551, 715, 802, 879,\n",
              "       743, 699, 617, 661, 896, 856, 861, 767, 656, 875, 778, 893, 785,\n",
              "       779, 565, 753, 852, 719, 744, 770, 614, 888, 547, 728, 618, 574,\n",
              "       505, 807, 530, 814, 843, 635, 824, 559, 837, 847, 885, 630, 589,\n",
              "       654, 724, 527, 738, 811, 546, 537, 594, 658, 583, 666, 742, 512,\n",
              "       877, 706, 727, 698, 609, 623, 544, 645, 657, 712, 513, 771, 736,\n",
              "       536, 828, 588, 730, 731, 646, 563, 525, 784, 725, 752, 756, 833,\n",
              "       561, 570, 899, 890, 720, 722, 526, 553, 596, 549, 709, 735, 776,\n",
              "       881, 669, 726, 535, 745, 636, 684, 827, 672, 573, 816, 707, 607,\n",
              "       817, 873, 810, 679, 558, 624, 825, 708, 502, 659, 757, 599, 749,\n",
              "       894, 541, 675, 615, 641, 682, 628, 582, 832, 550, 528, 509, 821,\n",
              "       849, 691, 826, 662, 504, 676, 579, 689, 622, 721, 835, 532, 751,\n",
              "       748, 610, 754, 878, 823, 562, 548, 631, 637, 606, 687, 564, 696,\n",
              "       819, 839, 840, 747, 681, 566, 891, 790, 897, 542, 813, 859, 650,\n",
              "       842, 521, 841, 531, 643, 655, 507, 576, 510, 554, 895])"
            ]
          },
          "metadata": {},
          "execution_count": 100
        }
      ],
      "source": [
        "dataset['credit_score'].unique()"
      ]
    },
    {
      "cell_type": "code",
      "execution_count": null,
      "metadata": {
        "id": "NQpE6wIymg1N"
      },
      "outputs": [],
      "source": [
        "dataset['credit_score'].fillna(0, inplace=True)"
      ]
    },
    {
      "cell_type": "code",
      "execution_count": null,
      "metadata": {
        "colab": {
          "base_uri": "https://localhost:8080/"
        },
        "id": "deF8hf2Amg1N",
        "outputId": "c524baf6-fb08-4d5b-c93d-c25bf774cb3f"
      },
      "outputs": [
        {
          "output_type": "execute_result",
          "data": {
            "text/plain": [
              "array([758, 552, 834, 587, 602, 864, 860, 863, 580, 788, 723, 501, 884,\n",
              "       520, 773, 685, 846, 534, 629, 688, 668, 692, 620, 533, 518, 812,\n",
              "       647, 683, 705, 701, 591, 889, 651, 716, 780, 799, 766, 868, 765,\n",
              "       673, 876, 886, 772, 640, 798, 858, 543, 555, 603, 808, 519, 786,\n",
              "       769, 556, 567, 632, 818, 584, 750, 838, 741, 820, 665, 783, 663,\n",
              "       612, 739, 571, 870, 793, 804, 801, 711, 634, 764, 865, 593, 511,\n",
              "       677, 774, 638, 644, 732, 586, 642, 872, 898, 734, 639, 506, 664,\n",
              "       670, 577, 857, 653, 595, 787, 560, 613, 514, 867, 717, 619, 600,\n",
              "       524, 883, 503, 887, 604, 648, 797, 806, 845, 815, 585, 729, 538,\n",
              "       791, 671, 572, 755, 760, 578, 836, 900, 777, 667, 880, 568, 805,\n",
              "       590, 892, 540, 869, 737, 831, 608, 803, 795, 674, 781, 545, 796,\n",
              "       660, 850, 851, 794, 866, 611, 621, 862, 829, 848, 775, 733, 700,\n",
              "       633, 702, 882, 686, 652, 844, 649, 557, 761, 569, 523, 740, 690,\n",
              "       616, 782, 601, 809, 855, 768, 627, 854, 762, 746, 592, 703, 697,\n",
              "       710, 522, 789, 693, 597, 680, 575, 694, 581, 678, 714, 871, 800,\n",
              "       853, 718, 713, 874, 625, 626, 500, 695, 517, 759, 792, 822, 516,\n",
              "       704, 605, 539, 598, 763, 515, 508, 529, 830, 551, 715, 802, 879,\n",
              "       743, 699, 617, 661, 896, 856, 861, 767, 656, 875, 778, 893, 785,\n",
              "       779, 565, 753, 852, 719, 744, 770, 614, 888, 547, 728, 618, 574,\n",
              "       505, 807, 530, 814, 843, 635, 824, 559, 837, 847, 885, 630, 589,\n",
              "       654, 724, 527, 738, 811, 546, 537, 594, 658, 583, 666, 742, 512,\n",
              "       877, 706, 727, 698, 609, 623, 544, 645, 657, 712, 513, 771, 736,\n",
              "       536, 828, 588, 730, 731, 646, 563, 525, 784, 725, 752, 756, 833,\n",
              "       561, 570, 899, 890, 720, 722, 526, 553, 596, 549, 709, 735, 776,\n",
              "       881, 669, 726, 535, 745, 636, 684, 827, 672, 573, 816, 707, 607,\n",
              "       817, 873, 810, 679, 558, 624, 825, 708, 502, 659, 757, 599, 749,\n",
              "       894, 541, 675, 615, 641, 682, 628, 582, 832, 550, 528, 509, 821,\n",
              "       849, 691, 826, 662, 504, 676, 579, 689, 622, 721, 835, 532, 751,\n",
              "       748, 610, 754, 878, 823, 562, 548, 631, 637, 606, 687, 564, 696,\n",
              "       819, 839, 840, 747, 681, 566, 891, 790, 897, 542, 813, 859, 650,\n",
              "       842, 521, 841, 531, 643, 655, 507, 576, 510, 554, 895])"
            ]
          },
          "metadata": {},
          "execution_count": 102
        }
      ],
      "source": [
        "dataset['credit_score'].unique()"
      ]
    },
    {
      "cell_type": "markdown",
      "metadata": {
        "id": "owC8DG81mg1N"
      },
      "source": [
        "#### CoBorrower credit type"
      ]
    },
    {
      "cell_type": "code",
      "execution_count": null,
      "metadata": {
        "pycharm": {
          "is_executing": true
        },
        "colab": {
          "base_uri": "https://localhost:8080/"
        },
        "id": "G1tuNc9img1N",
        "outputId": "f9705dc0-2cc8-4256-c8a1-54b179fe2e81"
      },
      "outputs": [
        {
          "output_type": "execute_result",
          "data": {
            "text/plain": [
              "array(['CIB', 'EXP'], dtype=object)"
            ]
          },
          "metadata": {},
          "execution_count": 103
        }
      ],
      "source": [
        "dataset['co-applicant_credit_type'].unique()"
      ]
    },
    {
      "cell_type": "markdown",
      "metadata": {
        "id": "CzVqYEITmg1N"
      },
      "source": [
        "Convert EXP to 1, EQUI to 2, TRANS to 3, CRIF and CIB to 4...impute NaNs to 0"
      ]
    },
    {
      "cell_type": "code",
      "execution_count": null,
      "metadata": {
        "pycharm": {
          "is_executing": true
        },
        "id": "RSzogFnomg1N"
      },
      "outputs": [],
      "source": [
        "dataset['co-applicant_credit_type'].replace({'EXP': 1, 'EQUI': 2, 'TRANS': 3, 'CIB': 4, 'CRIF': 4}, inplace=True)"
      ]
    },
    {
      "cell_type": "code",
      "execution_count": null,
      "metadata": {
        "pycharm": {
          "is_executing": true
        },
        "id": "ALaUlUNOmg1N"
      },
      "outputs": [],
      "source": [
        "dataset['co-applicant_credit_type'].fillna(0, inplace=True)"
      ]
    },
    {
      "cell_type": "markdown",
      "metadata": {
        "id": "BOaGSHXdmg1O"
      },
      "source": [
        "Rename co-applicant_credit_type to co_borrower_credit_type"
      ]
    },
    {
      "cell_type": "code",
      "execution_count": null,
      "metadata": {
        "pycharm": {
          "is_executing": true
        },
        "id": "QT6Az8hXmg1O"
      },
      "outputs": [],
      "source": [
        "dataset.rename(columns={'co-applicant_credit_type': 'co_borrower_credit_type'}, inplace=True)"
      ]
    },
    {
      "cell_type": "code",
      "execution_count": null,
      "metadata": {
        "pycharm": {
          "is_executing": true
        },
        "colab": {
          "base_uri": "https://localhost:8080/"
        },
        "id": "hhnngw6Fmg1O",
        "outputId": "5880dafc-f0c2-43f7-ebbe-d05282117ad1"
      },
      "outputs": [
        {
          "output_type": "execute_result",
          "data": {
            "text/plain": [
              "array([4, 1])"
            ]
          },
          "metadata": {},
          "execution_count": 107
        }
      ],
      "source": [
        "dataset['co_borrower_credit_type'].unique()"
      ]
    },
    {
      "cell_type": "markdown",
      "metadata": {
        "id": "vslvuyDnmg1O"
      },
      "source": [
        "#### Application taken"
      ]
    },
    {
      "cell_type": "code",
      "execution_count": null,
      "metadata": {
        "pycharm": {
          "is_executing": true
        },
        "colab": {
          "base_uri": "https://localhost:8080/"
        },
        "id": "XPQQSUMxmg1O",
        "outputId": "7a0b3687-185c-4420-be26-aebbdd7ae88c"
      },
      "outputs": [
        {
          "output_type": "execute_result",
          "data": {
            "text/plain": [
              "array(['to_inst', 'not_inst', nan], dtype=object)"
            ]
          },
          "metadata": {},
          "execution_count": 108
        }
      ],
      "source": [
        "dataset['submission_of_application'].unique()"
      ]
    },
    {
      "cell_type": "markdown",
      "metadata": {
        "id": "jUfV7lxxmg1O"
      },
      "source": [
        "Convert to_inst to 1, not_inst to 2...impute NaNs to 0. Rename column application_taken"
      ]
    },
    {
      "cell_type": "code",
      "execution_count": null,
      "metadata": {
        "pycharm": {
          "is_executing": true
        },
        "id": "F9llDEM6mg1O"
      },
      "outputs": [],
      "source": [
        "dataset['submission_of_application'].replace({'to_inst': 1, 'not_inst': 2}, inplace=True)"
      ]
    },
    {
      "cell_type": "code",
      "execution_count": null,
      "metadata": {
        "pycharm": {
          "is_executing": true
        },
        "id": "t1CvqsIwmg1P"
      },
      "outputs": [],
      "source": [
        "dataset['submission_of_application'].fillna(0, inplace=True)"
      ]
    },
    {
      "cell_type": "code",
      "execution_count": null,
      "metadata": {
        "pycharm": {
          "is_executing": true
        },
        "id": "y3sJtU6tmg1P"
      },
      "outputs": [],
      "source": [
        "dataset.rename(columns={'submission_of_application': 'application_taken'}, inplace=True)"
      ]
    },
    {
      "cell_type": "code",
      "execution_count": null,
      "metadata": {
        "pycharm": {
          "is_executing": true
        },
        "colab": {
          "base_uri": "https://localhost:8080/"
        },
        "id": "Hgk-_wx2mg1P",
        "outputId": "9f21acad-3adf-4563-c4d8-fdbee6cbfa2d"
      },
      "outputs": [
        {
          "output_type": "execute_result",
          "data": {
            "text/plain": [
              "array([1., 2., 0.])"
            ]
          },
          "metadata": {},
          "execution_count": 112
        }
      ],
      "source": [
        "dataset['application_taken'].unique()"
      ]
    },
    {
      "cell_type": "code",
      "execution_count": null,
      "metadata": {
        "pycharm": {
          "is_executing": true
        },
        "id": "izr1bUFDmg1P"
      },
      "outputs": [],
      "source": [
        "dataset['application_taken'] = dataset['application_taken'].astype(np.int64)"
      ]
    },
    {
      "cell_type": "code",
      "execution_count": null,
      "metadata": {
        "pycharm": {
          "is_executing": true
        },
        "colab": {
          "base_uri": "https://localhost:8080/"
        },
        "id": "HkbWOKY7mg1P",
        "outputId": "45329b59-8d2e-4573-dea5-33f2b5bbb4d3"
      },
      "outputs": [
        {
          "output_type": "execute_result",
          "data": {
            "text/plain": [
              "array([1, 2, 0])"
            ]
          },
          "metadata": {},
          "execution_count": 114
        }
      ],
      "source": [
        "dataset['application_taken'].unique()"
      ]
    },
    {
      "cell_type": "markdown",
      "metadata": {
        "id": "PPBFqYEGmg1P"
      },
      "source": [
        "#### LTV"
      ]
    },
    {
      "cell_type": "code",
      "execution_count": null,
      "metadata": {
        "pycharm": {
          "is_executing": true
        },
        "colab": {
          "base_uri": "https://localhost:8080/"
        },
        "id": "l0OHZWf3mg1P",
        "outputId": "cf37bae6-262c-4035-cca3-60cb69886898"
      },
      "outputs": [
        {
          "output_type": "execute_result",
          "data": {
            "text/plain": [
              "array([ 98.72881356,          nan,  80.01968504, ..., 151.8145161 ,\n",
              "        41.49550706,  32.80201342])"
            ]
          },
          "metadata": {},
          "execution_count": 115
        }
      ],
      "source": [
        "dataset['ltv'].unique()"
      ]
    },
    {
      "cell_type": "markdown",
      "metadata": {
        "id": "Yse_dD8pmg1Q"
      },
      "source": [
        "LTV cannot be NaN...explore the mean, median and mode of LTV for each status."
      ]
    },
    {
      "cell_type": "code",
      "execution_count": null,
      "metadata": {
        "pycharm": {
          "is_executing": true
        },
        "colab": {
          "base_uri": "https://localhost:8080/"
        },
        "id": "UDH08q0gmg1Q",
        "outputId": "ab3b4f6b-84a4-4cb0-f6ad-d6587eefc6ea"
      },
      "outputs": [
        {
          "output_type": "stream",
          "name": "stdout",
          "text": [
            "                 ltv\n",
            "count  112029.000000\n",
            "mean       72.064757\n",
            "std        41.768899\n",
            "min         2.072943\n",
            "25%        59.970817\n",
            "50%        74.504405\n",
            "75%        85.201149\n",
            "max      7831.250000\n",
            "                ltv\n",
            "count  21543.000000\n",
            "mean      76.291468\n",
            "std       28.580217\n",
            "min        0.967478\n",
            "25%       64.273172\n",
            "50%       79.362416\n",
            "75%       90.948276\n",
            "max     2956.250000\n",
            "     ltv\n",
            "0  81.25\n",
            "         ltv\n",
            "0  91.666667\n"
          ]
        }
      ],
      "source": [
        "print(dataset[dataset['status'] == 0][['ltv']].describe())\n",
        "print(dataset[dataset['status'] == 1][['ltv']].describe())\n",
        "print(dataset[dataset['status'] == 0][['ltv']].mode())\n",
        "print(dataset[dataset['status'] == 1][['ltv']].mode())"
      ]
    },
    {
      "cell_type": "markdown",
      "metadata": {
        "id": "2WSOB7F7mg1Q"
      },
      "source": [
        "The median between the two subsets is the closest of the three...impute NaN values to the median of each."
      ]
    },
    {
      "cell_type": "code",
      "execution_count": null,
      "metadata": {
        "pycharm": {
          "is_executing": true
        },
        "colab": {
          "base_uri": "https://localhost:8080/"
        },
        "id": "qYQtDM3Smg1Q",
        "outputId": "22500527-4dfb-4dc1-f67d-2f1d1d28b62b"
      },
      "outputs": [
        {
          "output_type": "execute_result",
          "data": {
            "text/plain": [
              "array([80.01968504, 69.3768997 , 91.88654354, ..., 66.73703257,\n",
              "       41.49550706, 32.80201342])"
            ]
          },
          "metadata": {},
          "execution_count": 117
        }
      ],
      "source": [
        "status0_median = dataset[(dataset['status'] == 0) & (~dataset['ltv'].isna())]['ltv'].median()\n",
        "\n",
        "dataset.loc[(dataset['status'] == 0) & (dataset['ltv'].isna()), 'ltv'] = status0_median\n",
        "\n",
        "dataset[dataset['status'] == 0]['ltv'].unique()"
      ]
    },
    {
      "cell_type": "code",
      "execution_count": null,
      "metadata": {
        "pycharm": {
          "is_executing": true
        },
        "colab": {
          "base_uri": "https://localhost:8080/"
        },
        "id": "h6QD0UlDmg1Q",
        "outputId": "d381f8e2-0811-4880-c4e9-fb672137573c"
      },
      "outputs": [
        {
          "output_type": "execute_result",
          "data": {
            "text/plain": [
              "array([ 98.72881356,  79.36241611,  81.25      , ...,  58.52272727,\n",
              "        48.4789823 , 151.8145161 ])"
            ]
          },
          "metadata": {},
          "execution_count": 118
        }
      ],
      "source": [
        "status1_median = dataset[(dataset['status'] == 1) & (~dataset['ltv'].isna())]['ltv'].median()\n",
        "\n",
        "dataset.loc[(dataset['status'] == 1) & (dataset['ltv'].isna()), 'ltv'] = status1_median\n",
        "\n",
        "dataset[dataset['status'] == 1]['ltv'].unique()"
      ]
    },
    {
      "cell_type": "code",
      "execution_count": null,
      "metadata": {
        "pycharm": {
          "is_executing": true
        },
        "colab": {
          "base_uri": "https://localhost:8080/"
        },
        "id": "_2D5fldmmg1R",
        "outputId": "2dc3ba89-ea17-4ddb-d53f-7c0a6e86db04"
      },
      "outputs": [
        {
          "output_type": "execute_result",
          "data": {
            "text/plain": [
              "0"
            ]
          },
          "metadata": {},
          "execution_count": 119
        }
      ],
      "source": [
        "dataset[dataset['status'] == 0]['ltv'].isna().sum()"
      ]
    },
    {
      "cell_type": "code",
      "execution_count": null,
      "metadata": {
        "pycharm": {
          "is_executing": true
        },
        "colab": {
          "base_uri": "https://localhost:8080/"
        },
        "id": "dOaip75nmg1R",
        "outputId": "c2231559-2ab0-410c-aa2a-a87b0d6fa1f2"
      },
      "outputs": [
        {
          "output_type": "execute_result",
          "data": {
            "text/plain": [
              "0"
            ]
          },
          "metadata": {},
          "execution_count": 120
        }
      ],
      "source": [
        "dataset[dataset['status'] == 1]['ltv'].isna().sum()"
      ]
    },
    {
      "cell_type": "markdown",
      "metadata": {
        "id": "KYzDeQezmg1R"
      },
      "source": [
        "#### Deposit type"
      ]
    },
    {
      "cell_type": "code",
      "execution_count": null,
      "metadata": {
        "pycharm": {
          "is_executing": true
        },
        "colab": {
          "base_uri": "https://localhost:8080/"
        },
        "id": "zMAZxo2lmg1R",
        "outputId": "d88b4b3d-2ca4-4560-f861-52e5304b78a4"
      },
      "outputs": [
        {
          "output_type": "execute_result",
          "data": {
            "text/plain": [
              "array(['direct', 'Indriect'], dtype=object)"
            ]
          },
          "metadata": {},
          "execution_count": 121
        }
      ],
      "source": [
        "dataset['security_type'].unique()"
      ]
    },
    {
      "cell_type": "markdown",
      "metadata": {
        "id": "y-bjYIgWmg1R"
      },
      "source": [
        "Convert direct to 1, indirect to 2...impute NaNs to 0"
      ]
    },
    {
      "cell_type": "code",
      "execution_count": null,
      "metadata": {
        "pycharm": {
          "is_executing": true
        },
        "id": "AFG0KO2Img1R"
      },
      "outputs": [],
      "source": [
        "dataset['security_type'].fillna(0, inplace=True)"
      ]
    },
    {
      "cell_type": "code",
      "execution_count": null,
      "metadata": {
        "pycharm": {
          "is_executing": true
        },
        "id": "5yo4GEYXmg1S"
      },
      "outputs": [],
      "source": [
        "dataset['security_type'].replace({'direct': 1, 'Indriect': 2}, inplace=True)"
      ]
    },
    {
      "cell_type": "code",
      "execution_count": null,
      "metadata": {
        "pycharm": {
          "is_executing": true
        },
        "id": "l_EUVuIOmg1S"
      },
      "outputs": [],
      "source": [
        "dataset['security_type'] = dataset['security_type'].astype(np.int64)"
      ]
    },
    {
      "cell_type": "code",
      "execution_count": null,
      "metadata": {
        "pycharm": {
          "is_executing": true
        },
        "colab": {
          "base_uri": "https://localhost:8080/"
        },
        "id": "mc1X-GqRmg1T",
        "outputId": "85fcd146-1d4b-4dbc-ff59-d80712428664"
      },
      "outputs": [
        {
          "output_type": "execute_result",
          "data": {
            "text/plain": [
              "array([1, 2])"
            ]
          },
          "metadata": {},
          "execution_count": 125
        }
      ],
      "source": [
        "dataset['security_type'].unique()"
      ]
    },
    {
      "cell_type": "markdown",
      "metadata": {
        "id": "q5GnkuMImg1T"
      },
      "source": [
        "Rename security type to deposit type"
      ]
    },
    {
      "cell_type": "code",
      "execution_count": null,
      "metadata": {
        "pycharm": {
          "is_executing": true
        },
        "id": "KKVcJilSmg1T"
      },
      "outputs": [],
      "source": [
        "dataset.rename(columns={'security_type': 'deposit_type'}, inplace=True)"
      ]
    },
    {
      "cell_type": "code",
      "execution_count": null,
      "metadata": {
        "pycharm": {
          "is_executing": true
        },
        "colab": {
          "base_uri": "https://localhost:8080/"
        },
        "id": "t_74XZalmg1U",
        "outputId": "20868cd0-5d9d-4cc1-cab6-c152296d86f6"
      },
      "outputs": [
        {
          "output_type": "execute_result",
          "data": {
            "text/plain": [
              "array([1, 2])"
            ]
          },
          "metadata": {},
          "execution_count": 127
        }
      ],
      "source": [
        "dataset['deposit_type'].unique()"
      ]
    },
    {
      "cell_type": "markdown",
      "metadata": {
        "id": "uXwsTbzHmg1U"
      },
      "source": [
        "#### DTI"
      ]
    },
    {
      "cell_type": "code",
      "execution_count": null,
      "metadata": {
        "pycharm": {
          "is_executing": true
        },
        "colab": {
          "base_uri": "https://localhost:8080/"
        },
        "id": "h8uOds9Qmg1U",
        "outputId": "700a0d88-e76f-4e11-be53-1a0fa74fbf26"
      },
      "outputs": [
        {
          "output_type": "execute_result",
          "data": {
            "text/plain": [
              "array([45., nan, 46., 42., 39., 40., 44., 30., 36., 51., 20., 31.,  6.,\n",
              "       35., 34., 49., 37., 41., 38., 56., 23., 28., 11., 27., 55., 22.,\n",
              "       24., 52., 33., 26., 47., 60., 25., 32., 10., 15., 53.,  7., 19.,\n",
              "       48., 59., 57.,  9., 50., 21., 58., 29., 43., 17., 54., 13., 12.,\n",
              "       16., 61., 18., 14.,  8.,  5.])"
            ]
          },
          "metadata": {},
          "execution_count": 128
        }
      ],
      "source": [
        "dataset['dtir1'].unique()"
      ]
    },
    {
      "cell_type": "markdown",
      "metadata": {
        "id": "igFMThrRmg1U"
      },
      "source": [
        "DTI cannot be NaN...explore the mean, median and mode of DTI for each status."
      ]
    },
    {
      "cell_type": "code",
      "execution_count": null,
      "metadata": {
        "pycharm": {
          "is_executing": true
        },
        "colab": {
          "base_uri": "https://localhost:8080/"
        },
        "id": "-iEzG-EMmg1U",
        "outputId": "a2329b4a-0c1d-4a18-83c1-8e55d503a485"
      },
      "outputs": [
        {
          "output_type": "stream",
          "name": "stdout",
          "text": [
            "               dtir1\n",
            "count  104220.000000\n",
            "mean       37.369267\n",
            "std        10.027197\n",
            "min         5.000000\n",
            "25%        31.000000\n",
            "50%        38.000000\n",
            "75%        44.000000\n",
            "max        61.000000\n",
            "              dtir1\n",
            "count  20329.000000\n",
            "mean      39.597324\n",
            "std       12.716828\n",
            "min        5.000000\n",
            "25%       32.000000\n",
            "50%       42.000000\n",
            "75%       49.000000\n",
            "max       61.000000\n",
            "   dtir1\n",
            "0   37.0\n",
            "   dtir1\n",
            "0   49.0\n"
          ]
        }
      ],
      "source": [
        "print(dataset[dataset['status'] == 0][['dtir1']].describe())\n",
        "print(dataset[dataset['status'] == 1][['dtir1']].describe())\n",
        "print(dataset[dataset['status'] == 0][['dtir1']].mode())\n",
        "print(dataset[dataset['status'] == 1][['dtir1']].mode())"
      ]
    },
    {
      "cell_type": "markdown",
      "metadata": {
        "id": "ns-Y5-dimg1V"
      },
      "source": [
        "The mean has the smallest deviation between the two sets...impute NaNs to the mean for each status set"
      ]
    },
    {
      "cell_type": "code",
      "execution_count": null,
      "metadata": {
        "pycharm": {
          "is_executing": true
        },
        "colab": {
          "base_uri": "https://localhost:8080/"
        },
        "id": "JBcbKE2bmg1V",
        "outputId": "615a4c0f-23ac-4ce2-8e14-7462375acf5d"
      },
      "outputs": [
        {
          "output_type": "execute_result",
          "data": {
            "text/plain": [
              "array([46.        , 42.        , 39.        , 40.        , 44.        ,\n",
              "       30.        , 36.        , 37.36926694, 31.        ,  6.        ,\n",
              "       35.        , 34.        , 49.        , 37.        , 41.        ,\n",
              "       38.        , 56.        , 23.        , 28.        , 27.        ,\n",
              "       20.        , 55.        , 22.        , 24.        , 52.        ,\n",
              "       33.        , 26.        , 47.        , 25.        , 45.        ,\n",
              "       32.        , 10.        , 60.        , 15.        , 53.        ,\n",
              "        7.        , 19.        , 48.        ,  9.        , 59.        ,\n",
              "       21.        , 58.        , 29.        , 43.        , 50.        ,\n",
              "       54.        , 12.        , 16.        , 51.        , 61.        ,\n",
              "       17.        , 13.        , 14.        ,  8.        , 18.        ,\n",
              "        5.        , 57.        , 11.        ])"
            ]
          },
          "metadata": {},
          "execution_count": 130
        }
      ],
      "source": [
        "status0_mean = dataset[(dataset['status'] == 0) & (~dataset['dtir1'].isna())]['dtir1'].mean()\n",
        "\n",
        "dataset.loc[(dataset['status'] == 0) & (dataset['dtir1'].isna()), 'dtir1'] = status0_mean\n",
        "\n",
        "dataset[dataset['status'] == 0]['dtir1'].unique()"
      ]
    },
    {
      "cell_type": "code",
      "execution_count": null,
      "metadata": {
        "pycharm": {
          "is_executing": true
        },
        "colab": {
          "base_uri": "https://localhost:8080/"
        },
        "id": "ZoRPDSN4mg1V",
        "outputId": "7358fbad-6f0c-40fa-de97-8b919e16190f"
      },
      "outputs": [
        {
          "output_type": "execute_result",
          "data": {
            "text/plain": [
              "array([45.        , 37.36926694, 44.        , 51.        , 20.        ,\n",
              "       42.        , 38.        , 31.        , 11.        , 36.        ,\n",
              "       49.        , 60.        , 41.        , 56.        , 10.        ,\n",
              "       59.        , 57.        , 50.        , 19.        , 37.        ,\n",
              "       35.        ,  6.        , 17.        , 40.        , 47.        ,\n",
              "       43.        , 27.        , 48.        , 13.        , 24.        ,\n",
              "       30.        , 39.        , 23.        , 54.        , 52.        ,\n",
              "       55.        , 46.        , 61.        , 26.        , 18.        ,\n",
              "       53.        , 21.        , 34.        , 28.        , 16.        ,\n",
              "       32.        , 58.        , 15.        , 25.        , 12.        ,\n",
              "       22.        , 14.        , 33.        ,  8.        , 29.        ,\n",
              "        9.        ,  5.        ,  7.        ])"
            ]
          },
          "metadata": {},
          "execution_count": 131
        }
      ],
      "source": [
        "status1_mean = dataset[(dataset['status'] == 1) & (~dataset['dtir1'].isna())]['dtir1'].mean()\n",
        "\n",
        "dataset.loc[(dataset['status'] == 1) & (dataset['dtir1'].isna()), 'dtir1'] = status0_mean\n",
        "\n",
        "dataset[dataset['status'] == 1]['dtir1'].unique()"
      ]
    },
    {
      "cell_type": "code",
      "execution_count": null,
      "metadata": {
        "pycharm": {
          "is_executing": true
        },
        "colab": {
          "base_uri": "https://localhost:8080/"
        },
        "id": "pz4sk3NNmg1V",
        "outputId": "36a4a35b-08b1-452c-9ef6-ffbd890b5ded"
      },
      "outputs": [
        {
          "output_type": "stream",
          "name": "stdout",
          "text": [
            "0\n",
            "0\n"
          ]
        }
      ],
      "source": [
        "print(dataset[dataset['status'] == 0]['dtir1'].isna().sum())\n",
        "print(dataset[dataset['status'] == 1]['dtir1'].isna().sum())"
      ]
    },
    {
      "cell_type": "markdown",
      "metadata": {
        "id": "ySEWn_XSmg1V"
      },
      "source": [
        "Rename dtir1 to dti"
      ]
    },
    {
      "cell_type": "code",
      "execution_count": null,
      "metadata": {
        "pycharm": {
          "is_executing": true
        },
        "id": "wsOLf13fmg1V"
      },
      "outputs": [],
      "source": [
        "dataset.rename(columns={'dtir1': 'dti'}, inplace=True)"
      ]
    },
    {
      "cell_type": "code",
      "execution_count": null,
      "metadata": {
        "pycharm": {
          "is_executing": true
        },
        "colab": {
          "base_uri": "https://localhost:8080/"
        },
        "id": "LVY6mou5mg1W",
        "outputId": "98c9d1e2-4e5c-4661-9337-efd7669c1a0c"
      },
      "outputs": [
        {
          "output_type": "execute_result",
          "data": {
            "text/plain": [
              "0         45.000000\n",
              "1         37.369267\n",
              "2         46.000000\n",
              "3         42.000000\n",
              "4         39.000000\n",
              "            ...    \n",
              "148665    48.000000\n",
              "148666    15.000000\n",
              "148667    49.000000\n",
              "148668    29.000000\n",
              "148669    44.000000\n",
              "Name: dti, Length: 148670, dtype: float64"
            ]
          },
          "metadata": {},
          "execution_count": 134
        }
      ],
      "source": [
        "dataset['dti']"
      ]
    },
    {
      "cell_type": "markdown",
      "metadata": {
        "id": "5BrlEwb1mg1W"
      },
      "source": [
        "#### Status"
      ]
    },
    {
      "cell_type": "code",
      "execution_count": null,
      "metadata": {
        "pycharm": {
          "is_executing": true
        },
        "colab": {
          "base_uri": "https://localhost:8080/"
        },
        "id": "qWUda8sImg1W",
        "outputId": "ace93b19-9164-4966-ab6b-0a397a6fe27c"
      },
      "outputs": [
        {
          "output_type": "execute_result",
          "data": {
            "text/plain": [
              "array([1, 0])"
            ]
          },
          "metadata": {},
          "execution_count": 135
        }
      ],
      "source": [
        "dataset['status'].unique()"
      ]
    },
    {
      "cell_type": "markdown",
      "metadata": {
        "id": "TweylHxbmg1W"
      },
      "source": [
        "This is the column the test split will predict. If any rows were missing a value here they would need to be dropped, however every row has either a 0 or a 1."
      ]
    },
    {
      "cell_type": "code",
      "execution_count": null,
      "metadata": {
        "pycharm": {
          "is_executing": true
        },
        "colab": {
          "base_uri": "https://localhost:8080/"
        },
        "id": "biFnxOjImg1W",
        "outputId": "33d97182-acbd-4b13-b78a-9be5fa520ae5"
      },
      "outputs": [
        {
          "output_type": "execute_result",
          "data": {
            "text/plain": [
              "Index(['loan_limit', 'gender', 'pre_approval', 'loan_type', 'loan_purpose',\n",
              "       'line_of_credit', 'commercial_loan', 'loan_amount', 'interest_rate',\n",
              "       'interest_rate_spread', 'upfront_charges', 'term',\n",
              "       'negative_ammortization', 'interest_only', 'lump_sum_payment',\n",
              "       'property_value', 'construction_type', 'occupancy_type',\n",
              "       'property_type', 'units', 'income', 'credit_type', 'credit_score',\n",
              "       'co_borrower_credit_type', 'age', 'application_taken', 'ltv', 'region',\n",
              "       'deposit_type', 'status', 'dti'],\n",
              "      dtype='object')"
            ]
          },
          "metadata": {},
          "execution_count": 136
        }
      ],
      "source": [
        "dataset.columns"
      ]
    },
    {
      "cell_type": "markdown",
      "metadata": {
        "id": "UXySwPyzmg1W"
      },
      "source": [
        "#### Fair credit"
      ]
    },
    {
      "cell_type": "markdown",
      "metadata": {
        "id": "PC2xhm5Wmg1W"
      },
      "source": [
        "Credit cannot be determined on the basis of sex, or age. Remove these columns to avoid violating fair credit reporting laws."
      ]
    },
    {
      "cell_type": "code",
      "execution_count": null,
      "metadata": {
        "pycharm": {
          "is_executing": true
        },
        "colab": {
          "base_uri": "https://localhost:8080/"
        },
        "id": "jArbFHyrmg1W",
        "outputId": "be9490a6-f87d-4463-94d0-5260578b44fb"
      },
      "outputs": [
        {
          "output_type": "execute_result",
          "data": {
            "text/plain": [
              "Index(['loan_limit', 'gender', 'pre_approval', 'loan_type', 'loan_purpose',\n",
              "       'line_of_credit', 'commercial_loan', 'loan_amount', 'interest_rate',\n",
              "       'interest_rate_spread', 'upfront_charges', 'term',\n",
              "       'negative_ammortization', 'interest_only', 'lump_sum_payment',\n",
              "       'property_value', 'construction_type', 'occupancy_type',\n",
              "       'property_type', 'units', 'income', 'credit_type', 'credit_score',\n",
              "       'co_borrower_credit_type', 'age', 'application_taken', 'ltv', 'region',\n",
              "       'deposit_type', 'status', 'dti'],\n",
              "      dtype='object')"
            ]
          },
          "metadata": {},
          "execution_count": 137
        }
      ],
      "source": [
        "dataset.columns"
      ]
    },
    {
      "cell_type": "code",
      "execution_count": null,
      "metadata": {
        "pycharm": {
          "is_executing": true
        },
        "id": "Tl0BT1bWmg1X"
      },
      "outputs": [],
      "source": [
        "dataset.drop(['gender', 'age'], axis=1, inplace=True)"
      ]
    },
    {
      "cell_type": "code",
      "execution_count": null,
      "metadata": {
        "pycharm": {
          "is_executing": true
        },
        "colab": {
          "base_uri": "https://localhost:8080/"
        },
        "id": "Q17tLVwKmg1X",
        "outputId": "c421b177-4f88-444c-de7e-68c3318e2030"
      },
      "outputs": [
        {
          "output_type": "execute_result",
          "data": {
            "text/plain": [
              "Index(['loan_limit', 'pre_approval', 'loan_type', 'loan_purpose',\n",
              "       'line_of_credit', 'commercial_loan', 'loan_amount', 'interest_rate',\n",
              "       'interest_rate_spread', 'upfront_charges', 'term',\n",
              "       'negative_ammortization', 'interest_only', 'lump_sum_payment',\n",
              "       'property_value', 'construction_type', 'occupancy_type',\n",
              "       'property_type', 'units', 'income', 'credit_type', 'credit_score',\n",
              "       'co_borrower_credit_type', 'application_taken', 'ltv', 'region',\n",
              "       'deposit_type', 'status', 'dti'],\n",
              "      dtype='object')"
            ]
          },
          "metadata": {},
          "execution_count": 139
        }
      ],
      "source": [
        "dataset.columns"
      ]
    },
    {
      "cell_type": "markdown",
      "metadata": {
        "id": "Xg352SPfmg1X"
      },
      "source": [
        "The region column should only be used for reporting and stress testing a portfolio to reduce disparate impact / treatment. Remove that column to avoid bias in underwriting decisions."
      ]
    },
    {
      "cell_type": "code",
      "execution_count": null,
      "metadata": {
        "pycharm": {
          "is_executing": true
        },
        "id": "4feCjoFZmg1X"
      },
      "outputs": [],
      "source": [
        "dataset.drop(['region'], axis=1, inplace=True)"
      ]
    },
    {
      "cell_type": "code",
      "source": [
        "dataset.to_csv('etl_data.csv', index=False)"
      ],
      "metadata": {
        "id": "Ipj8MqXit0-1"
      },
      "execution_count": null,
      "outputs": []
    },
    {
      "cell_type": "markdown",
      "metadata": {
        "id": "Zv0xtfP6mg1X"
      },
      "source": [
        "#### Build Model"
      ]
    },
    {
      "cell_type": "code",
      "source": [
        "# Load etl_data\n",
        "\n",
        "dataset = pd.read_csv('etl_data.csv')\n",
        "\n",
        "dataset.head()"
      ],
      "metadata": {
        "colab": {
          "base_uri": "https://localhost:8080/",
          "height": 300
        },
        "id": "n0A5I49suSS7",
        "outputId": "efec1845-7d51-491b-aa6f-58b7e8dc3900"
      },
      "execution_count": null,
      "outputs": [
        {
          "output_type": "execute_result",
          "data": {
            "text/plain": [
              "   loan_limit  pre_approval  loan_type  loan_purpose  line_of_credit  \\\n",
              "0           1             0          1             1               0   \n",
              "1           1             0          2             1               0   \n",
              "2           1             1          1             1               0   \n",
              "3           1             0          1             4               0   \n",
              "4           1             1          1             1               0   \n",
              "\n",
              "   commercial_loan  loan_amount  interest_rate  interest_rate_spread  \\\n",
              "0                0       116500         4.3125                0.0000   \n",
              "1                1       206500         4.3125                0.0000   \n",
              "2                0       406500         4.5600                0.2000   \n",
              "3                0       456500         4.2500                0.6810   \n",
              "4                0       696500         4.0000                0.3042   \n",
              "\n",
              "   upfront_charges  ...  units   income  credit_type  credit_score  \\\n",
              "0              0.0  ...      1   1740.0            1           758   \n",
              "1              0.0  ...      1   4980.0            2           552   \n",
              "2            595.0  ...      1   9480.0            1           834   \n",
              "3              0.0  ...      1  11880.0            1           587   \n",
              "4              0.0  ...      1  10440.0            4           602   \n",
              "\n",
              "   co_borrower_credit_type  application_taken        ltv  deposit_type  \\\n",
              "0                        4                  1  98.728814             1   \n",
              "1                        1                  1  79.362416             1   \n",
              "2                        4                  1  80.019685             1   \n",
              "3                        4                  2  69.376900             1   \n",
              "4                        1                  2  91.886544             1   \n",
              "\n",
              "   status        dti  \n",
              "0       1  45.000000  \n",
              "1       1  37.369267  \n",
              "2       0  46.000000  \n",
              "3       0  42.000000  \n",
              "4       0  39.000000  \n",
              "\n",
              "[5 rows x 28 columns]"
            ],
            "text/html": [
              "\n",
              "  <div id=\"df-bf81f934-f70e-4a7c-89b7-0c7b9a654ccd\">\n",
              "    <div class=\"colab-df-container\">\n",
              "      <div>\n",
              "<style scoped>\n",
              "    .dataframe tbody tr th:only-of-type {\n",
              "        vertical-align: middle;\n",
              "    }\n",
              "\n",
              "    .dataframe tbody tr th {\n",
              "        vertical-align: top;\n",
              "    }\n",
              "\n",
              "    .dataframe thead th {\n",
              "        text-align: right;\n",
              "    }\n",
              "</style>\n",
              "<table border=\"1\" class=\"dataframe\">\n",
              "  <thead>\n",
              "    <tr style=\"text-align: right;\">\n",
              "      <th></th>\n",
              "      <th>loan_limit</th>\n",
              "      <th>pre_approval</th>\n",
              "      <th>loan_type</th>\n",
              "      <th>loan_purpose</th>\n",
              "      <th>line_of_credit</th>\n",
              "      <th>commercial_loan</th>\n",
              "      <th>loan_amount</th>\n",
              "      <th>interest_rate</th>\n",
              "      <th>interest_rate_spread</th>\n",
              "      <th>upfront_charges</th>\n",
              "      <th>...</th>\n",
              "      <th>units</th>\n",
              "      <th>income</th>\n",
              "      <th>credit_type</th>\n",
              "      <th>credit_score</th>\n",
              "      <th>co_borrower_credit_type</th>\n",
              "      <th>application_taken</th>\n",
              "      <th>ltv</th>\n",
              "      <th>deposit_type</th>\n",
              "      <th>status</th>\n",
              "      <th>dti</th>\n",
              "    </tr>\n",
              "  </thead>\n",
              "  <tbody>\n",
              "    <tr>\n",
              "      <th>0</th>\n",
              "      <td>1</td>\n",
              "      <td>0</td>\n",
              "      <td>1</td>\n",
              "      <td>1</td>\n",
              "      <td>0</td>\n",
              "      <td>0</td>\n",
              "      <td>116500</td>\n",
              "      <td>4.3125</td>\n",
              "      <td>0.0000</td>\n",
              "      <td>0.0</td>\n",
              "      <td>...</td>\n",
              "      <td>1</td>\n",
              "      <td>1740.0</td>\n",
              "      <td>1</td>\n",
              "      <td>758</td>\n",
              "      <td>4</td>\n",
              "      <td>1</td>\n",
              "      <td>98.728814</td>\n",
              "      <td>1</td>\n",
              "      <td>1</td>\n",
              "      <td>45.000000</td>\n",
              "    </tr>\n",
              "    <tr>\n",
              "      <th>1</th>\n",
              "      <td>1</td>\n",
              "      <td>0</td>\n",
              "      <td>2</td>\n",
              "      <td>1</td>\n",
              "      <td>0</td>\n",
              "      <td>1</td>\n",
              "      <td>206500</td>\n",
              "      <td>4.3125</td>\n",
              "      <td>0.0000</td>\n",
              "      <td>0.0</td>\n",
              "      <td>...</td>\n",
              "      <td>1</td>\n",
              "      <td>4980.0</td>\n",
              "      <td>2</td>\n",
              "      <td>552</td>\n",
              "      <td>1</td>\n",
              "      <td>1</td>\n",
              "      <td>79.362416</td>\n",
              "      <td>1</td>\n",
              "      <td>1</td>\n",
              "      <td>37.369267</td>\n",
              "    </tr>\n",
              "    <tr>\n",
              "      <th>2</th>\n",
              "      <td>1</td>\n",
              "      <td>1</td>\n",
              "      <td>1</td>\n",
              "      <td>1</td>\n",
              "      <td>0</td>\n",
              "      <td>0</td>\n",
              "      <td>406500</td>\n",
              "      <td>4.5600</td>\n",
              "      <td>0.2000</td>\n",
              "      <td>595.0</td>\n",
              "      <td>...</td>\n",
              "      <td>1</td>\n",
              "      <td>9480.0</td>\n",
              "      <td>1</td>\n",
              "      <td>834</td>\n",
              "      <td>4</td>\n",
              "      <td>1</td>\n",
              "      <td>80.019685</td>\n",
              "      <td>1</td>\n",
              "      <td>0</td>\n",
              "      <td>46.000000</td>\n",
              "    </tr>\n",
              "    <tr>\n",
              "      <th>3</th>\n",
              "      <td>1</td>\n",
              "      <td>0</td>\n",
              "      <td>1</td>\n",
              "      <td>4</td>\n",
              "      <td>0</td>\n",
              "      <td>0</td>\n",
              "      <td>456500</td>\n",
              "      <td>4.2500</td>\n",
              "      <td>0.6810</td>\n",
              "      <td>0.0</td>\n",
              "      <td>...</td>\n",
              "      <td>1</td>\n",
              "      <td>11880.0</td>\n",
              "      <td>1</td>\n",
              "      <td>587</td>\n",
              "      <td>4</td>\n",
              "      <td>2</td>\n",
              "      <td>69.376900</td>\n",
              "      <td>1</td>\n",
              "      <td>0</td>\n",
              "      <td>42.000000</td>\n",
              "    </tr>\n",
              "    <tr>\n",
              "      <th>4</th>\n",
              "      <td>1</td>\n",
              "      <td>1</td>\n",
              "      <td>1</td>\n",
              "      <td>1</td>\n",
              "      <td>0</td>\n",
              "      <td>0</td>\n",
              "      <td>696500</td>\n",
              "      <td>4.0000</td>\n",
              "      <td>0.3042</td>\n",
              "      <td>0.0</td>\n",
              "      <td>...</td>\n",
              "      <td>1</td>\n",
              "      <td>10440.0</td>\n",
              "      <td>4</td>\n",
              "      <td>602</td>\n",
              "      <td>1</td>\n",
              "      <td>2</td>\n",
              "      <td>91.886544</td>\n",
              "      <td>1</td>\n",
              "      <td>0</td>\n",
              "      <td>39.000000</td>\n",
              "    </tr>\n",
              "  </tbody>\n",
              "</table>\n",
              "<p>5 rows × 28 columns</p>\n",
              "</div>\n",
              "      <button class=\"colab-df-convert\" onclick=\"convertToInteractive('df-bf81f934-f70e-4a7c-89b7-0c7b9a654ccd')\"\n",
              "              title=\"Convert this dataframe to an interactive table.\"\n",
              "              style=\"display:none;\">\n",
              "        \n",
              "  <svg xmlns=\"http://www.w3.org/2000/svg\" height=\"24px\"viewBox=\"0 0 24 24\"\n",
              "       width=\"24px\">\n",
              "    <path d=\"M0 0h24v24H0V0z\" fill=\"none\"/>\n",
              "    <path d=\"M18.56 5.44l.94 2.06.94-2.06 2.06-.94-2.06-.94-.94-2.06-.94 2.06-2.06.94zm-11 1L8.5 8.5l.94-2.06 2.06-.94-2.06-.94L8.5 2.5l-.94 2.06-2.06.94zm10 10l.94 2.06.94-2.06 2.06-.94-2.06-.94-.94-2.06-.94 2.06-2.06.94z\"/><path d=\"M17.41 7.96l-1.37-1.37c-.4-.4-.92-.59-1.43-.59-.52 0-1.04.2-1.43.59L10.3 9.45l-7.72 7.72c-.78.78-.78 2.05 0 2.83L4 21.41c.39.39.9.59 1.41.59.51 0 1.02-.2 1.41-.59l7.78-7.78 2.81-2.81c.8-.78.8-2.07 0-2.86zM5.41 20L4 18.59l7.72-7.72 1.47 1.35L5.41 20z\"/>\n",
              "  </svg>\n",
              "      </button>\n",
              "      \n",
              "  <style>\n",
              "    .colab-df-container {\n",
              "      display:flex;\n",
              "      flex-wrap:wrap;\n",
              "      gap: 12px;\n",
              "    }\n",
              "\n",
              "    .colab-df-convert {\n",
              "      background-color: #E8F0FE;\n",
              "      border: none;\n",
              "      border-radius: 50%;\n",
              "      cursor: pointer;\n",
              "      display: none;\n",
              "      fill: #1967D2;\n",
              "      height: 32px;\n",
              "      padding: 0 0 0 0;\n",
              "      width: 32px;\n",
              "    }\n",
              "\n",
              "    .colab-df-convert:hover {\n",
              "      background-color: #E2EBFA;\n",
              "      box-shadow: 0px 1px 2px rgba(60, 64, 67, 0.3), 0px 1px 3px 1px rgba(60, 64, 67, 0.15);\n",
              "      fill: #174EA6;\n",
              "    }\n",
              "\n",
              "    [theme=dark] .colab-df-convert {\n",
              "      background-color: #3B4455;\n",
              "      fill: #D2E3FC;\n",
              "    }\n",
              "\n",
              "    [theme=dark] .colab-df-convert:hover {\n",
              "      background-color: #434B5C;\n",
              "      box-shadow: 0px 1px 3px 1px rgba(0, 0, 0, 0.15);\n",
              "      filter: drop-shadow(0px 1px 2px rgba(0, 0, 0, 0.3));\n",
              "      fill: #FFFFFF;\n",
              "    }\n",
              "  </style>\n",
              "\n",
              "      <script>\n",
              "        const buttonEl =\n",
              "          document.querySelector('#df-bf81f934-f70e-4a7c-89b7-0c7b9a654ccd button.colab-df-convert');\n",
              "        buttonEl.style.display =\n",
              "          google.colab.kernel.accessAllowed ? 'block' : 'none';\n",
              "\n",
              "        async function convertToInteractive(key) {\n",
              "          const element = document.querySelector('#df-bf81f934-f70e-4a7c-89b7-0c7b9a654ccd');\n",
              "          const dataTable =\n",
              "            await google.colab.kernel.invokeFunction('convertToInteractive',\n",
              "                                                     [key], {});\n",
              "          if (!dataTable) return;\n",
              "\n",
              "          const docLinkHtml = 'Like what you see? Visit the ' +\n",
              "            '<a target=\"_blank\" href=https://colab.research.google.com/notebooks/data_table.ipynb>data table notebook</a>'\n",
              "            + ' to learn more about interactive tables.';\n",
              "          element.innerHTML = '';\n",
              "          dataTable['output_type'] = 'display_data';\n",
              "          await google.colab.output.renderOutput(dataTable, element);\n",
              "          const docLink = document.createElement('div');\n",
              "          docLink.innerHTML = docLinkHtml;\n",
              "          element.appendChild(docLink);\n",
              "        }\n",
              "      </script>\n",
              "    </div>\n",
              "  </div>\n",
              "  "
            ]
          },
          "metadata": {},
          "execution_count": 142
        }
      ]
    },
    {
      "cell_type": "code",
      "execution_count": null,
      "metadata": {
        "pycharm": {
          "is_executing": true
        },
        "id": "ppfTtoBfmg1X"
      },
      "outputs": [],
      "source": [
        "y = dataset[\"status\"].copy()\n",
        "X = dataset.drop([\"status\", ], axis=1, inplace=False).copy()\n",
        "\n",
        "X_train, X_test, y_train, y_test = train_test_split(X, y, test_size=0.3, random_state=40)"
      ]
    },
    {
      "cell_type": "code",
      "execution_count": null,
      "metadata": {
        "pycharm": {
          "is_executing": true
        },
        "id": "i7_hsaPymg1X"
      },
      "outputs": [],
      "source": [
        "X_train.reset_index(inplace = True, drop = True)\n",
        "X_test.reset_index(inplace = True, drop = True)\n",
        "y_train.reset_index(inplace = True, drop = True)\n",
        "y_test.reset_index(inplace = True, drop = True)"
      ]
    },
    {
      "cell_type": "code",
      "execution_count": null,
      "metadata": {
        "pycharm": {
          "is_executing": true
        },
        "colab": {
          "base_uri": "https://localhost:8080/"
        },
        "id": "WW9qZiknmg1Y",
        "outputId": "0deeb3b4-3694-45a8-aaf5-4c624c1b93af"
      },
      "outputs": [
        {
          "output_type": "stream",
          "name": "stdout",
          "text": [
            "MLPClassifier(early_stopping=True, hidden_layer_sizes=(20, 20), max_iter=10000,\n",
            "              n_iter_no_change=50)\n",
            "iterations ran: 180\n",
            "Train score: 0.9153542361317972\n",
            "Test score: 0.9156072733795206\n"
          ]
        }
      ],
      "source": [
        "# batch size\n",
        "max_iter = 10000\n",
        "\n",
        "classifier = MLPClassifier(\n",
        "    hidden_layer_sizes = (20, 20), # number of neurons in the perceptron\n",
        "    early_stopping = True, # after n_iter_no_change epochs stop fitting\n",
        "    n_iter_no_change = 50, # number of epochs to stop after\n",
        "    max_iter = max_iter # total number of epochs\n",
        ")\n",
        "\n",
        "print (classifier.fit(X_train.to_numpy(), y_train.to_numpy()))\n",
        "\n",
        "print (f\"iterations ran: {classifier.n_iter_}\")\n",
        "print (f\"Train score: {classifier.score(X_train.to_numpy(), y_train.to_numpy())}\")\n",
        "print (f\"Test score: {classifier.score(X_test.to_numpy(), y_test.to_numpy())}\")"
      ]
    },
    {
      "cell_type": "markdown",
      "metadata": {
        "id": "ZOV9kLjrmg1Y"
      },
      "source": [
        "#### Improve Model"
      ]
    },
    {
      "cell_type": "code",
      "execution_count": null,
      "metadata": {
        "pycharm": {
          "is_executing": true
        },
        "colab": {
          "base_uri": "https://localhost:8080/"
        },
        "id": "muc86SYgmg1Y",
        "outputId": "dfd9ae83-59cf-4116-b342-989f2a559534"
      },
      "outputs": [
        {
          "output_type": "stream",
          "name": "stdout",
          "text": [
            "Fitting 3 folds for each of 18 candidates, totalling 54 fits\n",
            "GridSearchCV(cv=3,\n",
            "             estimator=MLPClassifier(early_stopping=True,\n",
            "                                     hidden_layer_sizes=(20, 20),\n",
            "                                     max_iter=10000, n_iter_no_change=50),\n",
            "             n_jobs=-1,\n",
            "             param_grid={'hidden_layer_sizes': [(20, 20), (25, 25)],\n",
            "                         'learning_rate_init': [0.001, 0.003, 0.004],\n",
            "                         'tol': [1e-05, 5e-05, 0.0001]},\n",
            "             return_train_score=True, verbose=5)\n",
            "recommended estimator: MLPClassifier(early_stopping=True, hidden_layer_sizes=(20, 20), max_iter=10000,\n",
            "              n_iter_no_change=50, tol=5e-05)\n",
            "recommended parameters: {'hidden_layer_sizes': (20, 20), 'learning_rate_init': 0.001, 'tol': 5e-05}\n",
            "best score: 0.9066964800430709\n",
            "Train score: 0.9043230933323084\n",
            "Test score: 0.9022443442972131\n"
          ]
        }
      ],
      "source": [
        "parameters = {\n",
        "    'hidden_layer_sizes': [(20, 20), (25, 25)],\n",
        "    'learning_rate_init': [.001, .003, .004],\n",
        "    'tol': [1e-05, 5e-05, 1e-04],\n",
        "}\n",
        "\n",
        "cv = GridSearchCV(classifier, param_grid=parameters, cv=3, verbose=5, n_jobs=-1, return_train_score=True)\n",
        "\n",
        "print(cv.fit(X_train.to_numpy(), y_train.to_numpy()))\n",
        "print (f\"recommended estimator: {cv.best_estimator_}\")\n",
        "print (f\"recommended parameters: {cv.best_params_}\")\n",
        "print (f\"best score: {cv.best_score_}\")\n",
        "\n",
        "classifier_improved = cv.best_estimator_\n",
        "\n",
        "print (f\"Train score: {classifier_improved.score(X_train.to_numpy(), y_train.to_numpy())}\")\n",
        "print (f\"Test score: {classifier_improved.score(X_test.to_numpy(), y_test.to_numpy())}\")"
      ]
    },
    {
      "cell_type": "markdown",
      "source": [
        "#### Evaluate Model"
      ],
      "metadata": {
        "id": "JZlqE25FZbm8"
      }
    },
    {
      "cell_type": "code",
      "source": [
        "y_pred = cv.predict(X_test.to_numpy())\n",
        "\n",
        "print(classification_report(y_test, y_pred))"
      ],
      "metadata": {
        "colab": {
          "base_uri": "https://localhost:8080/"
        },
        "id": "_9HgGQigZdWa",
        "outputId": "7d4a8935-7569-4fbd-ce8c-02566f3df34e"
      },
      "execution_count": null,
      "outputs": [
        {
          "output_type": "stream",
          "name": "stdout",
          "text": [
            "              precision    recall  f1-score   support\n",
            "\n",
            "           0       0.93      0.94      0.94     33702\n",
            "           1       0.81      0.78      0.80     10899\n",
            "\n",
            "    accuracy                           0.90     44601\n",
            "   macro avg       0.87      0.86      0.87     44601\n",
            "weighted avg       0.90      0.90      0.90     44601\n",
            "\n"
          ]
        }
      ]
    }
  ],
  "metadata": {
    "kernelspec": {
      "display_name": "Python 3",
      "language": "python",
      "name": "python3"
    },
    "language_info": {
      "codemirror_mode": {
        "name": "ipython",
        "version": 3
      },
      "file_extension": ".py",
      "mimetype": "text/x-python",
      "name": "python",
      "nbconvert_exporter": "python",
      "pygments_lexer": "ipython3",
      "version": "3.6.6"
    },
    "colab": {
      "name": "etl-notebook.ipynb",
      "provenance": [],
      "collapsed_sections": []
    }
  },
  "nbformat": 4,
  "nbformat_minor": 0
}